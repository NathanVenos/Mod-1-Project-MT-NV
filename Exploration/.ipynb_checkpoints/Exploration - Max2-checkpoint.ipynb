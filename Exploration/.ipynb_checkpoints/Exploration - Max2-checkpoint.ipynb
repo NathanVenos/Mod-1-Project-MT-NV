{
 "cells": [
  {
   "cell_type": "code",
   "execution_count": 1,
   "metadata": {},
   "outputs": [],
   "source": [
    "#import libraries\n",
    "import pandas as pd\n",
    "import numpy as np\n",
    "import seaborn as sns\n",
    "import matplotlib.pyplot as plt\n",
    "%matplotlib inline"
   ]
  },
  {
   "cell_type": "code",
   "execution_count": 3,
   "metadata": {},
   "outputs": [],
   "source": [
    "imbd_name_basics = pd.read_csv('../Data/imdb.name.basics.csv.gz')\n",
    "imbd_title_akas = pd.read_csv('../Data/imdb.title.akas.csv.gz')\n",
    "imbd_title_basics = pd.read_csv('../Data/imdb.title.basics.csv.gz')\n",
    "imbd_title_crew = pd.read_csv('../Data/imdb.title.crew.csv.gz')\n",
    "imbd_title_principals = pd.read_csv('../Data/imdb.title.principals.csv.gz')\n",
    "imbd_title_ratings = pd.read_csv('../Data/imdb.title.ratings.csv.gz')"
   ]
  },
  {
   "cell_type": "code",
   "execution_count": 4,
   "metadata": {},
   "outputs": [],
   "source": [
    "#re-name column in title_akas\n",
    "imbd_title_akas = imbd_title_akas.rename(columns={'title_id': 'tconst'})"
   ]
  },
  {
   "cell_type": "code",
   "execution_count": 5,
   "metadata": {},
   "outputs": [],
   "source": [
    "#setting index columns\n",
    "imbd_title_akas.set_index(\"tconst\", inplace=True)\n",
    "imbd_title_basics.set_index(\"tconst\", inplace=True)\n",
    "imbd_title_crew.set_index(\"tconst\", inplace=True)\n",
    "imbd_title_principals.set_index(\"tconst\", inplace=True)\n",
    "imbd_title_ratings.set_index(\"tconst\", inplace=True)"
   ]
  },
  {
   "cell_type": "code",
   "execution_count": 6,
   "metadata": {},
   "outputs": [],
   "source": [
    "#creating imbd dataframe1\n",
    "imbd_df1 = imbd_title_basics"
   ]
  },
  {
   "cell_type": "code",
   "execution_count": 7,
   "metadata": {},
   "outputs": [],
   "source": [
    "#replacing empty genre cells with \"Missing\"\n",
    "imbd_df1['genres'].replace(np.nan, 'Missing', inplace=True, regex=True)"
   ]
  },
  {
   "cell_type": "code",
   "execution_count": 8,
   "metadata": {},
   "outputs": [],
   "source": [
    "#joining imbd_title_ratings to imbd_df\n",
    "imbd_df2 = imbd_df1.join(imbd_title_ratings, how='left')"
   ]
  },
  {
   "cell_type": "code",
   "execution_count": 9,
   "metadata": {},
   "outputs": [],
   "source": [
    "#joining imbd_title_crew to imbd_df\n",
    "imbd_df3 = imbd_df2.join(imbd_title_crew, how='left')"
   ]
  },
  {
   "cell_type": "code",
   "execution_count": 10,
   "metadata": {},
   "outputs": [],
   "source": [
    "#create studio_movie_performance & define index\n",
    "studio_movie_performance = pd.read_csv('studio_movie_performance_inner_w_imdb.csv', index_col='tconst')"
   ]
  },
  {
   "cell_type": "code",
   "execution_count": 16,
   "metadata": {},
   "outputs": [],
   "source": [
    "#join studio_movie_performance\n",
    "imbd_df4 = imbd_df3.join(studio_movie_performance, how='inner')"
   ]
  },
  {
   "cell_type": "code",
   "execution_count": 17,
   "metadata": {},
   "outputs": [
    {
     "data": {
      "text/html": [
       "<div>\n",
       "<style scoped>\n",
       "    .dataframe tbody tr th:only-of-type {\n",
       "        vertical-align: middle;\n",
       "    }\n",
       "\n",
       "    .dataframe tbody tr th {\n",
       "        vertical-align: top;\n",
       "    }\n",
       "\n",
       "    .dataframe thead th {\n",
       "        text-align: right;\n",
       "    }\n",
       "</style>\n",
       "<table border=\"1\" class=\"dataframe\">\n",
       "  <thead>\n",
       "    <tr style=\"text-align: right;\">\n",
       "      <th></th>\n",
       "      <th>primary_title</th>\n",
       "      <th>original_title</th>\n",
       "      <th>start_year</th>\n",
       "      <th>runtime_minutes</th>\n",
       "      <th>genres</th>\n",
       "      <th>averagerating</th>\n",
       "      <th>numvotes</th>\n",
       "      <th>directors</th>\n",
       "      <th>writers</th>\n",
       "      <th>title</th>\n",
       "      <th>studio</th>\n",
       "      <th>year</th>\n",
       "      <th>production_budget</th>\n",
       "      <th>domestic_gross</th>\n",
       "      <th>worldwide_gross</th>\n",
       "      <th>foreign_gross</th>\n",
       "    </tr>\n",
       "    <tr>\n",
       "      <th>tconst</th>\n",
       "      <th></th>\n",
       "      <th></th>\n",
       "      <th></th>\n",
       "      <th></th>\n",
       "      <th></th>\n",
       "      <th></th>\n",
       "      <th></th>\n",
       "      <th></th>\n",
       "      <th></th>\n",
       "      <th></th>\n",
       "      <th></th>\n",
       "      <th></th>\n",
       "      <th></th>\n",
       "      <th></th>\n",
       "      <th></th>\n",
       "      <th></th>\n",
       "    </tr>\n",
       "  </thead>\n",
       "  <tbody>\n",
       "    <tr>\n",
       "      <th>tt0337692</th>\n",
       "      <td>On the Road</td>\n",
       "      <td>On the Road</td>\n",
       "      <td>2012</td>\n",
       "      <td>124.0</td>\n",
       "      <td>Adventure,Drama,Romance</td>\n",
       "      <td>6.1</td>\n",
       "      <td>37886.0</td>\n",
       "      <td>nm0758574</td>\n",
       "      <td>nm0449616,nm1433580</td>\n",
       "      <td>On the Road</td>\n",
       "      <td>IFC</td>\n",
       "      <td>2012</td>\n",
       "      <td>25000000.0</td>\n",
       "      <td>720828.0</td>\n",
       "      <td>9.313302e+06</td>\n",
       "      <td>8592474.0</td>\n",
       "    </tr>\n",
       "    <tr>\n",
       "      <th>tt0359950</th>\n",
       "      <td>The Secret Life of Walter Mitty</td>\n",
       "      <td>The Secret Life of Walter Mitty</td>\n",
       "      <td>2013</td>\n",
       "      <td>114.0</td>\n",
       "      <td>Adventure,Comedy,Drama</td>\n",
       "      <td>7.3</td>\n",
       "      <td>275300.0</td>\n",
       "      <td>nm0001774</td>\n",
       "      <td>nm0175726,nm0862122</td>\n",
       "      <td>The Secret Life of Walter Mitty</td>\n",
       "      <td>Fox</td>\n",
       "      <td>2013</td>\n",
       "      <td>91000000.0</td>\n",
       "      <td>58236838.0</td>\n",
       "      <td>1.878612e+08</td>\n",
       "      <td>129624345.0</td>\n",
       "    </tr>\n",
       "    <tr>\n",
       "      <th>tt0365907</th>\n",
       "      <td>A Walk Among the Tombstones</td>\n",
       "      <td>A Walk Among the Tombstones</td>\n",
       "      <td>2014</td>\n",
       "      <td>114.0</td>\n",
       "      <td>Action,Crime,Drama</td>\n",
       "      <td>6.5</td>\n",
       "      <td>105116.0</td>\n",
       "      <td>nm0291082</td>\n",
       "      <td>nm0088747,nm0291082</td>\n",
       "      <td>A Walk Among the Tombstones</td>\n",
       "      <td>Uni.</td>\n",
       "      <td>2014</td>\n",
       "      <td>28000000.0</td>\n",
       "      <td>26017685.0</td>\n",
       "      <td>6.210859e+07</td>\n",
       "      <td>36090902.0</td>\n",
       "    </tr>\n",
       "    <tr>\n",
       "      <th>tt0369610</th>\n",
       "      <td>Jurassic World</td>\n",
       "      <td>Jurassic World</td>\n",
       "      <td>2015</td>\n",
       "      <td>124.0</td>\n",
       "      <td>Action,Adventure,Sci-Fi</td>\n",
       "      <td>7.0</td>\n",
       "      <td>539338.0</td>\n",
       "      <td>nm1119880</td>\n",
       "      <td>nm0415425,nm0798646,nm1119880,nm2081046,nm0000341</td>\n",
       "      <td>Jurassic World</td>\n",
       "      <td>Uni.</td>\n",
       "      <td>2015</td>\n",
       "      <td>215000000.0</td>\n",
       "      <td>652270625.0</td>\n",
       "      <td>1.648855e+09</td>\n",
       "      <td>996584239.0</td>\n",
       "    </tr>\n",
       "    <tr>\n",
       "      <th>tt0376136</th>\n",
       "      <td>The Rum Diary</td>\n",
       "      <td>The Rum Diary</td>\n",
       "      <td>2011</td>\n",
       "      <td>119.0</td>\n",
       "      <td>Comedy,Drama</td>\n",
       "      <td>6.2</td>\n",
       "      <td>94787.0</td>\n",
       "      <td>nm0732430</td>\n",
       "      <td>nm0732430,nm0860219</td>\n",
       "      <td>The Rum Diary</td>\n",
       "      <td>FD</td>\n",
       "      <td>2011</td>\n",
       "      <td>45000000.0</td>\n",
       "      <td>13109815.0</td>\n",
       "      <td>2.154473e+07</td>\n",
       "      <td>8434917.0</td>\n",
       "    </tr>\n",
       "  </tbody>\n",
       "</table>\n",
       "</div>"
      ],
      "text/plain": [
       "                             primary_title                   original_title  \\\n",
       "tconst                                                                        \n",
       "tt0337692                      On the Road                      On the Road   \n",
       "tt0359950  The Secret Life of Walter Mitty  The Secret Life of Walter Mitty   \n",
       "tt0365907      A Walk Among the Tombstones      A Walk Among the Tombstones   \n",
       "tt0369610                   Jurassic World                   Jurassic World   \n",
       "tt0376136                    The Rum Diary                    The Rum Diary   \n",
       "\n",
       "           start_year  runtime_minutes                   genres  \\\n",
       "tconst                                                            \n",
       "tt0337692        2012            124.0  Adventure,Drama,Romance   \n",
       "tt0359950        2013            114.0   Adventure,Comedy,Drama   \n",
       "tt0365907        2014            114.0       Action,Crime,Drama   \n",
       "tt0369610        2015            124.0  Action,Adventure,Sci-Fi   \n",
       "tt0376136        2011            119.0             Comedy,Drama   \n",
       "\n",
       "           averagerating  numvotes  directors  \\\n",
       "tconst                                          \n",
       "tt0337692            6.1   37886.0  nm0758574   \n",
       "tt0359950            7.3  275300.0  nm0001774   \n",
       "tt0365907            6.5  105116.0  nm0291082   \n",
       "tt0369610            7.0  539338.0  nm1119880   \n",
       "tt0376136            6.2   94787.0  nm0732430   \n",
       "\n",
       "                                                     writers  \\\n",
       "tconst                                                         \n",
       "tt0337692                                nm0449616,nm1433580   \n",
       "tt0359950                                nm0175726,nm0862122   \n",
       "tt0365907                                nm0088747,nm0291082   \n",
       "tt0369610  nm0415425,nm0798646,nm1119880,nm2081046,nm0000341   \n",
       "tt0376136                                nm0732430,nm0860219   \n",
       "\n",
       "                                     title studio  year  production_budget  \\\n",
       "tconst                                                                       \n",
       "tt0337692                      On the Road    IFC  2012         25000000.0   \n",
       "tt0359950  The Secret Life of Walter Mitty    Fox  2013         91000000.0   \n",
       "tt0365907      A Walk Among the Tombstones   Uni.  2014         28000000.0   \n",
       "tt0369610                   Jurassic World   Uni.  2015        215000000.0   \n",
       "tt0376136                    The Rum Diary     FD  2011         45000000.0   \n",
       "\n",
       "           domestic_gross  worldwide_gross  foreign_gross  \n",
       "tconst                                                     \n",
       "tt0337692        720828.0     9.313302e+06      8592474.0  \n",
       "tt0359950      58236838.0     1.878612e+08    129624345.0  \n",
       "tt0365907      26017685.0     6.210859e+07     36090902.0  \n",
       "tt0369610     652270625.0     1.648855e+09    996584239.0  \n",
       "tt0376136      13109815.0     2.154473e+07      8434917.0  "
      ]
     },
     "execution_count": 17,
     "metadata": {},
     "output_type": "execute_result"
    }
   ],
   "source": [
    "imbd_df4.head()"
   ]
  },
  {
   "cell_type": "code",
   "execution_count": 18,
   "metadata": {},
   "outputs": [
    {
     "name": "stdout",
     "output_type": "stream",
     "text": [
      "<class 'pandas.core.frame.DataFrame'>\n",
      "Index: 1603 entries, tt0337692 to tt9906218\n",
      "Data columns (total 16 columns):\n",
      "primary_title        1603 non-null object\n",
      "original_title       1603 non-null object\n",
      "start_year           1603 non-null int64\n",
      "runtime_minutes      1507 non-null float64\n",
      "genres               1603 non-null object\n",
      "averagerating        1426 non-null float64\n",
      "numvotes             1426 non-null float64\n",
      "directors            1573 non-null object\n",
      "writers              1491 non-null object\n",
      "title                1603 non-null object\n",
      "studio               1603 non-null object\n",
      "year                 1603 non-null int64\n",
      "production_budget    1603 non-null float64\n",
      "domestic_gross       1603 non-null float64\n",
      "worldwide_gross      1603 non-null float64\n",
      "foreign_gross        1603 non-null float64\n",
      "dtypes: float64(7), int64(2), object(7)\n",
      "memory usage: 212.9+ KB\n"
     ]
    }
   ],
   "source": [
    "imbd_df4.info()"
   ]
  },
  {
   "cell_type": "code",
   "execution_count": 19,
   "metadata": {},
   "outputs": [
    {
     "data": {
      "text/plain": [
       "primary_title          0\n",
       "original_title         0\n",
       "start_year             0\n",
       "runtime_minutes       96\n",
       "genres                 0\n",
       "averagerating        177\n",
       "numvotes             177\n",
       "directors             30\n",
       "writers              112\n",
       "title                  0\n",
       "studio                 0\n",
       "year                   0\n",
       "production_budget      0\n",
       "domestic_gross         0\n",
       "worldwide_gross        0\n",
       "foreign_gross          0\n",
       "dtype: int64"
      ]
     },
     "execution_count": 19,
     "metadata": {},
     "output_type": "execute_result"
    }
   ],
   "source": [
    "imbd_df4.isna().sum()"
   ]
  },
  {
   "cell_type": "code",
   "execution_count": null,
   "metadata": {},
   "outputs": [],
   "source": []
  },
  {
   "cell_type": "code",
   "execution_count": null,
   "metadata": {},
   "outputs": [],
   "source": []
  },
  {
   "cell_type": "code",
   "execution_count": null,
   "metadata": {},
   "outputs": [],
   "source": []
  },
  {
   "cell_type": "code",
   "execution_count": null,
   "metadata": {},
   "outputs": [],
   "source": [
    "#cleaning imbd_title_akas before merge to imbd_df\n",
    "#imbd_title_akas_cleaned = imbd_title_akas.loc[imbd_title_akas.is_original_title == 1].copy()\n",
    "\n",
    "\n"
   ]
  },
  {
   "cell_type": "code",
   "execution_count": null,
   "metadata": {},
   "outputs": [],
   "source": [
    "#add regions column\n",
    "#imbd_title_akas_cleaned['regions'] = imbd_title_akas_cleaned['region']"
   ]
  },
  {
   "cell_type": "code",
   "execution_count": null,
   "metadata": {},
   "outputs": [],
   "source": [
    "#imbd_title_akas_cleaned.regions = imbd_title_akas.apply(lambda x: list(imbd_title_akas.loc[imbd_title_akas.index == x, 'region']))\n",
    "\n"
   ]
  },
  {
   "cell_type": "code",
   "execution_count": null,
   "metadata": {},
   "outputs": [],
   "source": [
    "#adding list of regions to each original title\n",
    "region_list_dict = {}\n",
    "for title in imbd_title_akas_cleaned.index:\n",
    "    region_list = list(imbd_title_akas.loc[imbd_title_akas.index == title, 'region'])\n",
    "    region_list_dict.update(title = region_list)\n",
    "#     imbd_title_akas_cleaned.at[title, 'regions'] = region_list\n",
    "region_list_df = pd.DataFrame(region_list_dict)\n",
    "region_list_df.head()"
   ]
  },
  {
   "cell_type": "code",
   "execution_count": null,
   "metadata": {},
   "outputs": [],
   "source": []
  },
  {
   "cell_type": "code",
   "execution_count": null,
   "metadata": {},
   "outputs": [],
   "source": [
    "#joining imbd_title_crew to imbd_df\n",
    "imbd_df_join4 = imbd_df_join3.join(????, how='left')"
   ]
  },
  {
   "cell_type": "code",
   "execution_count": null,
   "metadata": {},
   "outputs": [],
   "source": [
    "imbd_title_akas.head()"
   ]
  },
  {
   "cell_type": "code",
   "execution_count": null,
   "metadata": {},
   "outputs": [],
   "source": [
    "imbd_title_akas_cleaned.head()"
   ]
  },
  {
   "cell_type": "code",
   "execution_count": null,
   "metadata": {},
   "outputs": [],
   "source": [
    "imbd_df_join3.head()"
   ]
  },
  {
   "cell_type": "code",
   "execution_count": null,
   "metadata": {},
   "outputs": [],
   "source": [
    "imbd_df_join3.to_csv(\"imdb_df_join3.csv\")"
   ]
  },
  {
   "cell_type": "code",
   "execution_count": null,
   "metadata": {},
   "outputs": [],
   "source": []
  }
 ],
 "metadata": {
  "kernelspec": {
   "display_name": "Python 3",
   "language": "python",
   "name": "python3"
  },
  "language_info": {
   "codemirror_mode": {
    "name": "ipython",
    "version": 3
   },
   "file_extension": ".py",
   "mimetype": "text/x-python",
   "name": "python",
   "nbconvert_exporter": "python",
   "pygments_lexer": "ipython3",
   "version": "3.7.3"
  }
 },
 "nbformat": 4,
 "nbformat_minor": 2
}
