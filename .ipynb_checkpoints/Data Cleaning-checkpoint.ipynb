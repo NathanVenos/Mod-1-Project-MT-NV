{
 "cells": [
  {
   "cell_type": "markdown",
   "metadata": {},
   "source": [
    "# DATA CLEANING\n",
    "\n",
    "__Technical Notebook -__  Module 1 Microsoft Project <br />\n",
    "__Data Scientists -__  Nathan Venos, Max Tingle <br />\n",
    "__Flatiron School -__ DC Data Science Fellowship\n",
    "\n"
   ]
  },
  {
   "cell_type": "markdown",
   "metadata": {},
   "source": [
    "## I. Importing Libraries"
   ]
  },
  {
   "cell_type": "code",
   "execution_count": 1,
   "metadata": {},
   "outputs": [],
   "source": [
    "# import libraries\n",
    "import string\n",
    "import pandas as pd\n",
    "import numpy as np\n",
    "import seaborn as sns\n",
    "import matplotlib.pyplot as plt\n",
    "%matplotlib inline"
   ]
  },
  {
   "cell_type": "markdown",
   "metadata": {},
   "source": [
    "## II. IMDb Data\n",
    "\n",
    "\n",
    "We combine two IMDb data sets to identify movies' genres, ratings, and number of votes received. We use imdb.title.basics.csv.gz to identify each movie's unique identifier code, movie title, and associated genere(s). We use imdb.title.ratings.csv.gz to identify each movie's average rating and number of votes received."
   ]
  },
  {
   "cell_type": "markdown",
   "metadata": {},
   "source": [
    "### 1. Reading IMDB CSV Data Files"
   ]
  },
  {
   "cell_type": "code",
   "execution_count": 2,
   "metadata": {},
   "outputs": [],
   "source": [
    "# Reading imdb.title.basics.csv.gz and imdb.title.ratings.csv.gz\n",
    "imdb_title_basics = pd.read_csv('Data/imdb.title.basics.csv.gz')\n",
    "imdb_title_ratings = pd.read_csv('Data/imdb.title.ratings.csv.gz')"
   ]
  },
  {
   "cell_type": "markdown",
   "metadata": {
    "heading_collapsed": true
   },
   "source": [
    "### 2. Exploring IMDB DataFrames"
   ]
  },
  {
   "cell_type": "code",
   "execution_count": 3,
   "metadata": {
    "hidden": true
   },
   "outputs": [
    {
     "data": {
      "text/html": [
       "<div>\n",
       "<style scoped>\n",
       "    .dataframe tbody tr th:only-of-type {\n",
       "        vertical-align: middle;\n",
       "    }\n",
       "\n",
       "    .dataframe tbody tr th {\n",
       "        vertical-align: top;\n",
       "    }\n",
       "\n",
       "    .dataframe thead th {\n",
       "        text-align: right;\n",
       "    }\n",
       "</style>\n",
       "<table border=\"1\" class=\"dataframe\">\n",
       "  <thead>\n",
       "    <tr style=\"text-align: right;\">\n",
       "      <th></th>\n",
       "      <th>tconst</th>\n",
       "      <th>primary_title</th>\n",
       "      <th>original_title</th>\n",
       "      <th>start_year</th>\n",
       "      <th>runtime_minutes</th>\n",
       "      <th>genres</th>\n",
       "    </tr>\n",
       "  </thead>\n",
       "  <tbody>\n",
       "    <tr>\n",
       "      <td>0</td>\n",
       "      <td>tt0063540</td>\n",
       "      <td>Sunghursh</td>\n",
       "      <td>Sunghursh</td>\n",
       "      <td>2013</td>\n",
       "      <td>175.0</td>\n",
       "      <td>Action,Crime,Drama</td>\n",
       "    </tr>\n",
       "    <tr>\n",
       "      <td>1</td>\n",
       "      <td>tt0066787</td>\n",
       "      <td>One Day Before the Rainy Season</td>\n",
       "      <td>Ashad Ka Ek Din</td>\n",
       "      <td>2019</td>\n",
       "      <td>114.0</td>\n",
       "      <td>Biography,Drama</td>\n",
       "    </tr>\n",
       "    <tr>\n",
       "      <td>2</td>\n",
       "      <td>tt0069049</td>\n",
       "      <td>The Other Side of the Wind</td>\n",
       "      <td>The Other Side of the Wind</td>\n",
       "      <td>2018</td>\n",
       "      <td>122.0</td>\n",
       "      <td>Drama</td>\n",
       "    </tr>\n",
       "    <tr>\n",
       "      <td>3</td>\n",
       "      <td>tt0069204</td>\n",
       "      <td>Sabse Bada Sukh</td>\n",
       "      <td>Sabse Bada Sukh</td>\n",
       "      <td>2018</td>\n",
       "      <td>NaN</td>\n",
       "      <td>Comedy,Drama</td>\n",
       "    </tr>\n",
       "    <tr>\n",
       "      <td>4</td>\n",
       "      <td>tt0100275</td>\n",
       "      <td>The Wandering Soap Opera</td>\n",
       "      <td>La Telenovela Errante</td>\n",
       "      <td>2017</td>\n",
       "      <td>80.0</td>\n",
       "      <td>Comedy,Drama,Fantasy</td>\n",
       "    </tr>\n",
       "  </tbody>\n",
       "</table>\n",
       "</div>"
      ],
      "text/plain": [
       "      tconst                    primary_title              original_title  \\\n",
       "0  tt0063540                        Sunghursh                   Sunghursh   \n",
       "1  tt0066787  One Day Before the Rainy Season             Ashad Ka Ek Din   \n",
       "2  tt0069049       The Other Side of the Wind  The Other Side of the Wind   \n",
       "3  tt0069204                  Sabse Bada Sukh             Sabse Bada Sukh   \n",
       "4  tt0100275         The Wandering Soap Opera       La Telenovela Errante   \n",
       "\n",
       "   start_year  runtime_minutes                genres  \n",
       "0        2013            175.0    Action,Crime,Drama  \n",
       "1        2019            114.0       Biography,Drama  \n",
       "2        2018            122.0                 Drama  \n",
       "3        2018              NaN          Comedy,Drama  \n",
       "4        2017             80.0  Comedy,Drama,Fantasy  "
      ]
     },
     "execution_count": 3,
     "metadata": {},
     "output_type": "execute_result"
    }
   ],
   "source": [
    "# Exploring imdb_title_basics with .head()\n",
    "imdb_title_basics.head()"
   ]
  },
  {
   "cell_type": "code",
   "execution_count": 4,
   "metadata": {
    "hidden": true
   },
   "outputs": [
    {
     "name": "stdout",
     "output_type": "stream",
     "text": [
      "<class 'pandas.core.frame.DataFrame'>\n",
      "RangeIndex: 146144 entries, 0 to 146143\n",
      "Data columns (total 6 columns):\n",
      "tconst             146144 non-null object\n",
      "primary_title      146144 non-null object\n",
      "original_title     146123 non-null object\n",
      "start_year         146144 non-null int64\n",
      "runtime_minutes    114405 non-null float64\n",
      "genres             140736 non-null object\n",
      "dtypes: float64(1), int64(1), object(4)\n",
      "memory usage: 6.7+ MB\n"
     ]
    }
   ],
   "source": [
    "# Exploring imdb_title_basics with .info()\n",
    "imdb_title_basics.info()"
   ]
  },
  {
   "cell_type": "code",
   "execution_count": 5,
   "metadata": {
    "hidden": true
   },
   "outputs": [
    {
     "data": {
      "text/plain": [
       "genres\n",
       "Action                        2219\n",
       "Action,Adult,Comedy              2\n",
       "Action,Adventure               114\n",
       "Action,Adventure,Animation     197\n",
       "Action,Adventure,Biography      34\n",
       "                              ... \n",
       "Thriller,War,Western             1\n",
       "Thriller,Western                 4\n",
       "War                            131\n",
       "War,Western                      1\n",
       "Western                        142\n",
       "Name: tconst, Length: 1085, dtype: int64"
      ]
     },
     "execution_count": 5,
     "metadata": {},
     "output_type": "execute_result"
    }
   ],
   "source": [
    "# Exploring imdb_title_basics and grouping by genres\n",
    "imdb_title_basics.groupby('genres')['tconst'].count()"
   ]
  },
  {
   "cell_type": "code",
   "execution_count": 6,
   "metadata": {
    "hidden": true
   },
   "outputs": [
    {
     "data": {
      "text/html": [
       "<div>\n",
       "<style scoped>\n",
       "    .dataframe tbody tr th:only-of-type {\n",
       "        vertical-align: middle;\n",
       "    }\n",
       "\n",
       "    .dataframe tbody tr th {\n",
       "        vertical-align: top;\n",
       "    }\n",
       "\n",
       "    .dataframe thead th {\n",
       "        text-align: right;\n",
       "    }\n",
       "</style>\n",
       "<table border=\"1\" class=\"dataframe\">\n",
       "  <thead>\n",
       "    <tr style=\"text-align: right;\">\n",
       "      <th></th>\n",
       "      <th>tconst</th>\n",
       "      <th>averagerating</th>\n",
       "      <th>numvotes</th>\n",
       "    </tr>\n",
       "  </thead>\n",
       "  <tbody>\n",
       "    <tr>\n",
       "      <td>0</td>\n",
       "      <td>tt10356526</td>\n",
       "      <td>8.3</td>\n",
       "      <td>31</td>\n",
       "    </tr>\n",
       "    <tr>\n",
       "      <td>1</td>\n",
       "      <td>tt10384606</td>\n",
       "      <td>8.9</td>\n",
       "      <td>559</td>\n",
       "    </tr>\n",
       "    <tr>\n",
       "      <td>2</td>\n",
       "      <td>tt1042974</td>\n",
       "      <td>6.4</td>\n",
       "      <td>20</td>\n",
       "    </tr>\n",
       "    <tr>\n",
       "      <td>3</td>\n",
       "      <td>tt1043726</td>\n",
       "      <td>4.2</td>\n",
       "      <td>50352</td>\n",
       "    </tr>\n",
       "    <tr>\n",
       "      <td>4</td>\n",
       "      <td>tt1060240</td>\n",
       "      <td>6.5</td>\n",
       "      <td>21</td>\n",
       "    </tr>\n",
       "  </tbody>\n",
       "</table>\n",
       "</div>"
      ],
      "text/plain": [
       "       tconst  averagerating  numvotes\n",
       "0  tt10356526            8.3        31\n",
       "1  tt10384606            8.9       559\n",
       "2   tt1042974            6.4        20\n",
       "3   tt1043726            4.2     50352\n",
       "4   tt1060240            6.5        21"
      ]
     },
     "execution_count": 6,
     "metadata": {},
     "output_type": "execute_result"
    }
   ],
   "source": [
    "# Exploring imdb_title_ratings with .head()\n",
    "imdb_title_ratings.head()"
   ]
  },
  {
   "cell_type": "code",
   "execution_count": 7,
   "metadata": {
    "hidden": true
   },
   "outputs": [
    {
     "name": "stdout",
     "output_type": "stream",
     "text": [
      "<class 'pandas.core.frame.DataFrame'>\n",
      "RangeIndex: 73856 entries, 0 to 73855\n",
      "Data columns (total 3 columns):\n",
      "tconst           73856 non-null object\n",
      "averagerating    73856 non-null float64\n",
      "numvotes         73856 non-null int64\n",
      "dtypes: float64(1), int64(1), object(1)\n",
      "memory usage: 1.7+ MB\n"
     ]
    }
   ],
   "source": [
    "# Exploring imdb_title_ratings with .info()\n",
    "imdb_title_ratings.info()"
   ]
  },
  {
   "cell_type": "markdown",
   "metadata": {},
   "source": [
    "### 3. Cleaning IMDB DataFrames"
   ]
  },
  {
   "cell_type": "code",
   "execution_count": 8,
   "metadata": {},
   "outputs": [],
   "source": [
    "# Replacing empty cells in imdb_title_basics \"genre\" column with \"Missing\"\n",
    "imdb_title_basics['genres'].replace(np.nan, 'Missing', inplace=True, regex=True)"
   ]
  },
  {
   "cell_type": "code",
   "execution_count": 9,
   "metadata": {
    "code_folding": []
   },
   "outputs": [],
   "source": [
    "# Lowercase column names in imdb_title_ratings to standardize column names\n",
    "imdb_title_ratings.rename(columns={'averagerating': 'average_rating', 'numvotes': 'num_votes'}, inplace=True)"
   ]
  },
  {
   "cell_type": "markdown",
   "metadata": {},
   "source": [
    "### 4. Joining IMDB DataFrames"
   ]
  },
  {
   "cell_type": "code",
   "execution_count": 10,
   "metadata": {
    "code_folding": []
   },
   "outputs": [],
   "source": [
    "# Setting index columns to \"tconst\" variable in preparation for join\n",
    "imdb_title_basics.set_index(\"tconst\", inplace=True)\n",
    "imdb_title_ratings.set_index(\"tconst\", inplace=True)"
   ]
  },
  {
   "cell_type": "code",
   "execution_count": 11,
   "metadata": {},
   "outputs": [],
   "source": [
    "# Joining imdb_title_basics and imdb_title_ratings to create imbd_df\n",
    "imdb_df3 = imdb_title_basics.join(imdb_title_ratings, how='left')"
   ]
  },
  {
   "cell_type": "code",
   "execution_count": 12,
   "metadata": {
    "code_folding": []
   },
   "outputs": [
    {
     "data": {
      "text/html": [
       "<div>\n",
       "<style scoped>\n",
       "    .dataframe tbody tr th:only-of-type {\n",
       "        vertical-align: middle;\n",
       "    }\n",
       "\n",
       "    .dataframe tbody tr th {\n",
       "        vertical-align: top;\n",
       "    }\n",
       "\n",
       "    .dataframe thead th {\n",
       "        text-align: right;\n",
       "    }\n",
       "</style>\n",
       "<table border=\"1\" class=\"dataframe\">\n",
       "  <thead>\n",
       "    <tr style=\"text-align: right;\">\n",
       "      <th></th>\n",
       "      <th>primary_title</th>\n",
       "      <th>original_title</th>\n",
       "      <th>start_year</th>\n",
       "      <th>runtime_minutes</th>\n",
       "      <th>genres</th>\n",
       "      <th>average_rating</th>\n",
       "      <th>num_votes</th>\n",
       "    </tr>\n",
       "    <tr>\n",
       "      <th>tconst</th>\n",
       "      <th></th>\n",
       "      <th></th>\n",
       "      <th></th>\n",
       "      <th></th>\n",
       "      <th></th>\n",
       "      <th></th>\n",
       "      <th></th>\n",
       "    </tr>\n",
       "  </thead>\n",
       "  <tbody>\n",
       "    <tr>\n",
       "      <td>tt0063540</td>\n",
       "      <td>Sunghursh</td>\n",
       "      <td>Sunghursh</td>\n",
       "      <td>2013</td>\n",
       "      <td>175.0</td>\n",
       "      <td>Action,Crime,Drama</td>\n",
       "      <td>7.0</td>\n",
       "      <td>77.0</td>\n",
       "    </tr>\n",
       "    <tr>\n",
       "      <td>tt0066787</td>\n",
       "      <td>One Day Before the Rainy Season</td>\n",
       "      <td>Ashad Ka Ek Din</td>\n",
       "      <td>2019</td>\n",
       "      <td>114.0</td>\n",
       "      <td>Biography,Drama</td>\n",
       "      <td>7.2</td>\n",
       "      <td>43.0</td>\n",
       "    </tr>\n",
       "    <tr>\n",
       "      <td>tt0069049</td>\n",
       "      <td>The Other Side of the Wind</td>\n",
       "      <td>The Other Side of the Wind</td>\n",
       "      <td>2018</td>\n",
       "      <td>122.0</td>\n",
       "      <td>Drama</td>\n",
       "      <td>6.9</td>\n",
       "      <td>4517.0</td>\n",
       "    </tr>\n",
       "    <tr>\n",
       "      <td>tt0069204</td>\n",
       "      <td>Sabse Bada Sukh</td>\n",
       "      <td>Sabse Bada Sukh</td>\n",
       "      <td>2018</td>\n",
       "      <td>NaN</td>\n",
       "      <td>Comedy,Drama</td>\n",
       "      <td>6.1</td>\n",
       "      <td>13.0</td>\n",
       "    </tr>\n",
       "    <tr>\n",
       "      <td>tt0100275</td>\n",
       "      <td>The Wandering Soap Opera</td>\n",
       "      <td>La Telenovela Errante</td>\n",
       "      <td>2017</td>\n",
       "      <td>80.0</td>\n",
       "      <td>Comedy,Drama,Fantasy</td>\n",
       "      <td>6.5</td>\n",
       "      <td>119.0</td>\n",
       "    </tr>\n",
       "  </tbody>\n",
       "</table>\n",
       "</div>"
      ],
      "text/plain": [
       "                             primary_title              original_title  \\\n",
       "tconst                                                                   \n",
       "tt0063540                        Sunghursh                   Sunghursh   \n",
       "tt0066787  One Day Before the Rainy Season             Ashad Ka Ek Din   \n",
       "tt0069049       The Other Side of the Wind  The Other Side of the Wind   \n",
       "tt0069204                  Sabse Bada Sukh             Sabse Bada Sukh   \n",
       "tt0100275         The Wandering Soap Opera       La Telenovela Errante   \n",
       "\n",
       "           start_year  runtime_minutes                genres  average_rating  \\\n",
       "tconst                                                                         \n",
       "tt0063540        2013            175.0    Action,Crime,Drama             7.0   \n",
       "tt0066787        2019            114.0       Biography,Drama             7.2   \n",
       "tt0069049        2018            122.0                 Drama             6.9   \n",
       "tt0069204        2018              NaN          Comedy,Drama             6.1   \n",
       "tt0100275        2017             80.0  Comedy,Drama,Fantasy             6.5   \n",
       "\n",
       "           num_votes  \n",
       "tconst                \n",
       "tt0063540       77.0  \n",
       "tt0066787       43.0  \n",
       "tt0069049     4517.0  \n",
       "tt0069204       13.0  \n",
       "tt0100275      119.0  "
      ]
     },
     "execution_count": 12,
     "metadata": {},
     "output_type": "execute_result"
    }
   ],
   "source": [
    "# Previewing imdb_df\n",
    "imdb_df3.head()"
   ]
  },
  {
   "cell_type": "markdown",
   "metadata": {},
   "source": [
    "## III. Budget & Revenue Data\n",
    "We use the bom.movie_gross.csv data to identify each movie's studio.\n",
    "We wanted to know the studio so we can identify trends within individual studios\n",
    "We use the tn.movie_budgets.csv to identify each movie's budget and revenue figures."
   ]
  },
  {
   "cell_type": "markdown",
   "metadata": {},
   "source": [
    "### 1. Reading Budget and Revenue CSV Data Files"
   ]
  },
  {
   "cell_type": "code",
   "execution_count": 13,
   "metadata": {},
   "outputs": [],
   "source": [
    "# Reading bom.movie_gross.csv.gz and tn.movie_budgets.csv.gz\n",
    "bom = pd.read_csv('Data/bom.movie_gross.csv.gz')\n",
    "tn = pd.read_csv('Data/tn.movie_budgets.csv.gz')"
   ]
  },
  {
   "cell_type": "markdown",
   "metadata": {},
   "source": [
    "### 2. Exploring Budget and Revenue DataFrames"
   ]
  },
  {
   "cell_type": "code",
   "execution_count": 14,
   "metadata": {},
   "outputs": [
    {
     "data": {
      "text/html": [
       "<div>\n",
       "<style scoped>\n",
       "    .dataframe tbody tr th:only-of-type {\n",
       "        vertical-align: middle;\n",
       "    }\n",
       "\n",
       "    .dataframe tbody tr th {\n",
       "        vertical-align: top;\n",
       "    }\n",
       "\n",
       "    .dataframe thead th {\n",
       "        text-align: right;\n",
       "    }\n",
       "</style>\n",
       "<table border=\"1\" class=\"dataframe\">\n",
       "  <thead>\n",
       "    <tr style=\"text-align: right;\">\n",
       "      <th></th>\n",
       "      <th>title</th>\n",
       "      <th>studio</th>\n",
       "      <th>domestic_gross</th>\n",
       "      <th>foreign_gross</th>\n",
       "      <th>year</th>\n",
       "    </tr>\n",
       "  </thead>\n",
       "  <tbody>\n",
       "    <tr>\n",
       "      <td>0</td>\n",
       "      <td>Toy Story 3</td>\n",
       "      <td>BV</td>\n",
       "      <td>415000000.0</td>\n",
       "      <td>652000000</td>\n",
       "      <td>2010</td>\n",
       "    </tr>\n",
       "    <tr>\n",
       "      <td>1</td>\n",
       "      <td>Alice in Wonderland (2010)</td>\n",
       "      <td>BV</td>\n",
       "      <td>334200000.0</td>\n",
       "      <td>691300000</td>\n",
       "      <td>2010</td>\n",
       "    </tr>\n",
       "    <tr>\n",
       "      <td>2</td>\n",
       "      <td>Harry Potter and the Deathly Hallows Part 1</td>\n",
       "      <td>WB</td>\n",
       "      <td>296000000.0</td>\n",
       "      <td>664300000</td>\n",
       "      <td>2010</td>\n",
       "    </tr>\n",
       "    <tr>\n",
       "      <td>3</td>\n",
       "      <td>Inception</td>\n",
       "      <td>WB</td>\n",
       "      <td>292600000.0</td>\n",
       "      <td>535700000</td>\n",
       "      <td>2010</td>\n",
       "    </tr>\n",
       "    <tr>\n",
       "      <td>4</td>\n",
       "      <td>Shrek Forever After</td>\n",
       "      <td>P/DW</td>\n",
       "      <td>238700000.0</td>\n",
       "      <td>513900000</td>\n",
       "      <td>2010</td>\n",
       "    </tr>\n",
       "  </tbody>\n",
       "</table>\n",
       "</div>"
      ],
      "text/plain": [
       "                                         title studio  domestic_gross  \\\n",
       "0                                  Toy Story 3     BV     415000000.0   \n",
       "1                   Alice in Wonderland (2010)     BV     334200000.0   \n",
       "2  Harry Potter and the Deathly Hallows Part 1     WB     296000000.0   \n",
       "3                                    Inception     WB     292600000.0   \n",
       "4                          Shrek Forever After   P/DW     238700000.0   \n",
       "\n",
       "  foreign_gross  year  \n",
       "0     652000000  2010  \n",
       "1     691300000  2010  \n",
       "2     664300000  2010  \n",
       "3     535700000  2010  \n",
       "4     513900000  2010  "
      ]
     },
     "execution_count": 14,
     "metadata": {},
     "output_type": "execute_result"
    }
   ],
   "source": [
    "# Exploring bom with .head()\n",
    "bom.head()"
   ]
  },
  {
   "cell_type": "code",
   "execution_count": 15,
   "metadata": {},
   "outputs": [
    {
     "name": "stdout",
     "output_type": "stream",
     "text": [
      "<class 'pandas.core.frame.DataFrame'>\n",
      "RangeIndex: 3387 entries, 0 to 3386\n",
      "Data columns (total 5 columns):\n",
      "title             3387 non-null object\n",
      "studio            3382 non-null object\n",
      "domestic_gross    3359 non-null float64\n",
      "foreign_gross     2037 non-null object\n",
      "year              3387 non-null int64\n",
      "dtypes: float64(1), int64(1), object(3)\n",
      "memory usage: 132.4+ KB\n"
     ]
    }
   ],
   "source": [
    "# Exploring bom with .info()\n",
    "bom.info()"
   ]
  },
  {
   "cell_type": "code",
   "execution_count": 16,
   "metadata": {},
   "outputs": [
    {
     "data": {
      "text/plain": [
       "studio\n",
       "3D        1\n",
       "A23       2\n",
       "A24      49\n",
       "ADC       2\n",
       "AF        6\n",
       "         ..\n",
       "XL        2\n",
       "YFG       1\n",
       "Yash     14\n",
       "Zee       1\n",
       "Zeit.    16\n",
       "Name: title, Length: 257, dtype: int64"
      ]
     },
     "execution_count": 16,
     "metadata": {},
     "output_type": "execute_result"
    }
   ],
   "source": [
    "# Exploring bom and grouping by studio to get a count of titles per studio\n",
    "bom.groupby('studio')['title'].count()"
   ]
  },
  {
   "cell_type": "code",
   "execution_count": 17,
   "metadata": {},
   "outputs": [
    {
     "data": {
      "text/plain": [
       "258"
      ]
     },
     "execution_count": 17,
     "metadata": {},
     "output_type": "execute_result"
    }
   ],
   "source": [
    "# Counting unique value of studios in bom\n",
    "len(bom.studio.unique())"
   ]
  },
  {
   "cell_type": "code",
   "execution_count": 18,
   "metadata": {},
   "outputs": [
    {
     "data": {
      "text/plain": [
       "0"
      ]
     },
     "execution_count": 18,
     "metadata": {},
     "output_type": "execute_result"
    }
   ],
   "source": [
    "# Checking for duplicates in bom\n",
    "sum(bom.duplicated())"
   ]
  },
  {
   "cell_type": "code",
   "execution_count": 19,
   "metadata": {},
   "outputs": [
    {
     "data": {
      "text/html": [
       "<div>\n",
       "<style scoped>\n",
       "    .dataframe tbody tr th:only-of-type {\n",
       "        vertical-align: middle;\n",
       "    }\n",
       "\n",
       "    .dataframe tbody tr th {\n",
       "        vertical-align: top;\n",
       "    }\n",
       "\n",
       "    .dataframe thead th {\n",
       "        text-align: right;\n",
       "    }\n",
       "</style>\n",
       "<table border=\"1\" class=\"dataframe\">\n",
       "  <thead>\n",
       "    <tr style=\"text-align: right;\">\n",
       "      <th></th>\n",
       "      <th>id</th>\n",
       "      <th>release_date</th>\n",
       "      <th>movie</th>\n",
       "      <th>production_budget</th>\n",
       "      <th>domestic_gross</th>\n",
       "      <th>worldwide_gross</th>\n",
       "    </tr>\n",
       "  </thead>\n",
       "  <tbody>\n",
       "    <tr>\n",
       "      <td>0</td>\n",
       "      <td>1</td>\n",
       "      <td>Dec 18, 2009</td>\n",
       "      <td>Avatar</td>\n",
       "      <td>$425,000,000</td>\n",
       "      <td>$760,507,625</td>\n",
       "      <td>$2,776,345,279</td>\n",
       "    </tr>\n",
       "    <tr>\n",
       "      <td>1</td>\n",
       "      <td>2</td>\n",
       "      <td>May 20, 2011</td>\n",
       "      <td>Pirates of the Caribbean: On Stranger Tides</td>\n",
       "      <td>$410,600,000</td>\n",
       "      <td>$241,063,875</td>\n",
       "      <td>$1,045,663,875</td>\n",
       "    </tr>\n",
       "    <tr>\n",
       "      <td>2</td>\n",
       "      <td>3</td>\n",
       "      <td>Jun 7, 2019</td>\n",
       "      <td>Dark Phoenix</td>\n",
       "      <td>$350,000,000</td>\n",
       "      <td>$42,762,350</td>\n",
       "      <td>$149,762,350</td>\n",
       "    </tr>\n",
       "    <tr>\n",
       "      <td>3</td>\n",
       "      <td>4</td>\n",
       "      <td>May 1, 2015</td>\n",
       "      <td>Avengers: Age of Ultron</td>\n",
       "      <td>$330,600,000</td>\n",
       "      <td>$459,005,868</td>\n",
       "      <td>$1,403,013,963</td>\n",
       "    </tr>\n",
       "    <tr>\n",
       "      <td>4</td>\n",
       "      <td>5</td>\n",
       "      <td>Dec 15, 2017</td>\n",
       "      <td>Star Wars Ep. VIII: The Last Jedi</td>\n",
       "      <td>$317,000,000</td>\n",
       "      <td>$620,181,382</td>\n",
       "      <td>$1,316,721,747</td>\n",
       "    </tr>\n",
       "  </tbody>\n",
       "</table>\n",
       "</div>"
      ],
      "text/plain": [
       "   id  release_date                                        movie  \\\n",
       "0   1  Dec 18, 2009                                       Avatar   \n",
       "1   2  May 20, 2011  Pirates of the Caribbean: On Stranger Tides   \n",
       "2   3   Jun 7, 2019                                 Dark Phoenix   \n",
       "3   4   May 1, 2015                      Avengers: Age of Ultron   \n",
       "4   5  Dec 15, 2017            Star Wars Ep. VIII: The Last Jedi   \n",
       "\n",
       "  production_budget domestic_gross worldwide_gross  \n",
       "0      $425,000,000   $760,507,625  $2,776,345,279  \n",
       "1      $410,600,000   $241,063,875  $1,045,663,875  \n",
       "2      $350,000,000    $42,762,350    $149,762,350  \n",
       "3      $330,600,000   $459,005,868  $1,403,013,963  \n",
       "4      $317,000,000   $620,181,382  $1,316,721,747  "
      ]
     },
     "execution_count": 19,
     "metadata": {},
     "output_type": "execute_result"
    }
   ],
   "source": [
    "# Exploring tn with .head()\n",
    "tn.head()"
   ]
  },
  {
   "cell_type": "code",
   "execution_count": 20,
   "metadata": {},
   "outputs": [
    {
     "name": "stdout",
     "output_type": "stream",
     "text": [
      "<class 'pandas.core.frame.DataFrame'>\n",
      "RangeIndex: 5782 entries, 0 to 5781\n",
      "Data columns (total 6 columns):\n",
      "id                   5782 non-null int64\n",
      "release_date         5782 non-null object\n",
      "movie                5782 non-null object\n",
      "production_budget    5782 non-null object\n",
      "domestic_gross       5782 non-null object\n",
      "worldwide_gross      5782 non-null object\n",
      "dtypes: int64(1), object(5)\n",
      "memory usage: 271.2+ KB\n"
     ]
    }
   ],
   "source": [
    "# Exploring tn with .info()\n",
    "tn.info()"
   ]
  },
  {
   "cell_type": "code",
   "execution_count": 21,
   "metadata": {},
   "outputs": [
    {
     "data": {
      "text/plain": [
       "0"
      ]
     },
     "execution_count": 21,
     "metadata": {},
     "output_type": "execute_result"
    }
   ],
   "source": [
    "# Checking for duplicates in tn\n",
    "sum(tn.duplicated())"
   ]
  },
  {
   "cell_type": "markdown",
   "metadata": {},
   "source": [
    "### 3. Cleaning of Budget and Revenue DataFrames"
   ]
  },
  {
   "cell_type": "markdown",
   "metadata": {},
   "source": [
    "#### a. Initial Cleaning"
   ]
  },
  {
   "cell_type": "code",
   "execution_count": 22,
   "metadata": {},
   "outputs": [],
   "source": [
    "# cleaning up an encoding issue for apostrophes\n",
    "tn.movie = tn.movie.apply(lambda x: x.replace('â\\x80\\x99', \"'\"))\n",
    "\n",
    "# Converting the money columns, which have values stored as strings due to dollar-signs and commas, to numbers.\n",
    "def convert_currency_str_to_num(dataframe, column):\n",
    "    dataframe[column] = dataframe[column].apply(lambda x: x.replace('$', ''))\n",
    "    dataframe[column] = dataframe[column].apply(lambda x: x.replace(',', ''))\n",
    "    dataframe[column] = dataframe[column].astype('float')\n",
    "\n",
    "convert_currency_str_to_num(tn, 'production_budget')\n",
    "convert_currency_str_to_num(tn, 'domestic_gross')\n",
    "convert_currency_str_to_num(tn, 'worldwide_gross')"
   ]
  },
  {
   "cell_type": "code",
   "execution_count": 23,
   "metadata": {},
   "outputs": [],
   "source": [
    "# Removing movies from before 2010 to conform with the time period in the other datasets\n",
    "tn['year'] = tn.release_date.apply(lambda x: int(x[-4:]))\n",
    "tn = tn.loc[tn.year >= 2010]"
   ]
  },
  {
   "cell_type": "code",
   "execution_count": 24,
   "metadata": {},
   "outputs": [],
   "source": [
    "# Converting the release_date to a datetime object\n",
    "tn['release_date'] = pd.to_datetime(tn.release_date)"
   ]
  },
  {
   "cell_type": "markdown",
   "metadata": {},
   "source": [
    "#### b. Function to Remove Year Parentheticals from Title Strings"
   ]
  },
  {
   "cell_type": "markdown",
   "metadata": {},
   "source": [
    "As we were cleaning the tn dataframe, we found some titles which had the year appended in a parenthetical,\n",
    "but that wasn't the case in the other datasets, so they were being excluded from an inner join on the titles. We therefore created two functions to remove the parenthetical year from titles containing parenthetical years."
   ]
  },
  {
   "cell_type": "code",
   "execution_count": 25,
   "metadata": {},
   "outputs": [],
   "source": [
    "# This function returns True if the movie title has a 4-digit number/year within a parenthetical\n",
    "\n",
    "def parenthetical_is_a_year(words):\n",
    "    if words.find(\"(\") != -1:\n",
    "        new_words = words[(words.find(\"(\")+1):(words.find(\")\"))]\n",
    "        if (new_words.isdigit()) and (len(new_words) == 4):\n",
    "            return True\n",
    "        else:\n",
    "            return False\n",
    "    else:\n",
    "        return False"
   ]
  },
  {
   "cell_type": "code",
   "execution_count": 26,
   "metadata": {},
   "outputs": [],
   "source": [
    "# This function relies on parenthetical_is_a_year() to determine if there's a year appended to the title,\n",
    "# and then removes the appended year if it exists\n",
    "\n",
    "def remove_appended_yr_from_title(dataframe, column):\n",
    "    dataframe[column] = dataframe[column].apply(\n",
    "        lambda x: x[:(x.find(\"(\")-1)] if parenthetical_is_a_year(x) else x)"
   ]
  },
  {
   "cell_type": "code",
   "execution_count": 27,
   "metadata": {},
   "outputs": [],
   "source": [
    "remove_appended_yr_from_title(bom, 'title')"
   ]
  },
  {
   "cell_type": "markdown",
   "metadata": {},
   "source": [
    "#### c. Function to Remove Styling from Titles"
   ]
  },
  {
   "cell_type": "markdown",
   "metadata": {},
   "source": [
    "We then created a function to remove styling from titles that could inhibit a match when joining different datasets. "
   ]
  },
  {
   "cell_type": "code",
   "execution_count": 28,
   "metadata": {},
   "outputs": [],
   "source": [
    "# This function removes punctuation from the titles and makes all characters lowercase\n",
    "\n",
    "def title_string_format_standardization(dataframe, column):\n",
    "    dataframe[column] = dataframe[column].apply(lambda x: str(x).translate(str.maketrans('',\n",
    "                                                                                         '',\n",
    "                                                                                         string.punctuation)\n",
    "                                                                           ).lower())"
   ]
  },
  {
   "cell_type": "code",
   "execution_count": 29,
   "metadata": {},
   "outputs": [],
   "source": [
    "# Using our created function to remove styling from title names\n",
    "title_string_format_standardization(tn, 'movie')\n",
    "title_string_format_standardization(bom, 'title')"
   ]
  },
  {
   "cell_type": "markdown",
   "metadata": {},
   "source": [
    "#### d. Creating Columns, Dropping Unrelated Columns, & Dropping Rows with Missing Data"
   ]
  },
  {
   "cell_type": "code",
   "execution_count": 30,
   "metadata": {},
   "outputs": [],
   "source": [
    "# Creating uniquely named year columns for comparison after joining the dataframes\n",
    "bom.rename(columns={'year': 'bom_year'}, inplace=True)\n",
    "tn.rename(columns={'year': 'tn_year'}, inplace=True)"
   ]
  },
  {
   "cell_type": "code",
   "execution_count": 31,
   "metadata": {},
   "outputs": [],
   "source": [
    "# Only keeping pertinent columns of each dataframe.\n",
    "bom = bom[['title', 'studio', 'bom_year']].copy()\n",
    "tn = tn[['movie', 'release_date', 'production_budget', 'domestic_gross',\n",
    "         'worldwide_gross', 'tn_year']].copy()"
   ]
  },
  {
   "cell_type": "code",
   "execution_count": 32,
   "metadata": {},
   "outputs": [],
   "source": [
    "# Dropping the 5 rows from bom that have nulls since the count is so low\n",
    "bom.dropna(inplace=True)"
   ]
  },
  {
   "cell_type": "code",
   "execution_count": 33,
   "metadata": {},
   "outputs": [],
   "source": [
    "# Creating a foreign_gross column.\n",
    "tn['foreign_gross'] = tn['worldwide_gross'] - tn['domestic_gross']"
   ]
  },
  {
   "cell_type": "markdown",
   "metadata": {},
   "source": [
    "### 4. Joining Budget & Revenue DataFrames"
   ]
  },
  {
   "cell_type": "code",
   "execution_count": 34,
   "metadata": {},
   "outputs": [],
   "source": [
    "# Inner joining the studio and budget+revenue data sets \n",
    "# to ensure we have a set of movies with a complete set of info.\n",
    "studio_movie_performance_inner = bom.merge(right=tn,\n",
    "                                           how='inner',\n",
    "                                           left_on='title',\n",
    "                                           right_on='movie')"
   ]
  },
  {
   "cell_type": "code",
   "execution_count": 35,
   "metadata": {
    "scrolled": true
   },
   "outputs": [
    {
     "data": {
      "text/html": [
       "<div>\n",
       "<style scoped>\n",
       "    .dataframe tbody tr th:only-of-type {\n",
       "        vertical-align: middle;\n",
       "    }\n",
       "\n",
       "    .dataframe tbody tr th {\n",
       "        vertical-align: top;\n",
       "    }\n",
       "\n",
       "    .dataframe thead th {\n",
       "        text-align: right;\n",
       "    }\n",
       "</style>\n",
       "<table border=\"1\" class=\"dataframe\">\n",
       "  <thead>\n",
       "    <tr style=\"text-align: right;\">\n",
       "      <th></th>\n",
       "      <th>title</th>\n",
       "      <th>studio</th>\n",
       "      <th>bom_year</th>\n",
       "      <th>movie</th>\n",
       "      <th>release_date</th>\n",
       "      <th>production_budget</th>\n",
       "      <th>domestic_gross</th>\n",
       "      <th>worldwide_gross</th>\n",
       "      <th>tn_year</th>\n",
       "      <th>foreign_gross</th>\n",
       "    </tr>\n",
       "  </thead>\n",
       "  <tbody>\n",
       "    <tr>\n",
       "      <td>17</td>\n",
       "      <td>robin hood</td>\n",
       "      <td>Uni.</td>\n",
       "      <td>2010</td>\n",
       "      <td>robin hood</td>\n",
       "      <td>2018-11-21</td>\n",
       "      <td>99000000.0</td>\n",
       "      <td>30824628.0</td>\n",
       "      <td>8.474744e+07</td>\n",
       "      <td>2018</td>\n",
       "      <td>53922813.0</td>\n",
       "    </tr>\n",
       "    <tr>\n",
       "      <td>18</td>\n",
       "      <td>robin hood</td>\n",
       "      <td>LG/S</td>\n",
       "      <td>2018</td>\n",
       "      <td>robin hood</td>\n",
       "      <td>2010-05-14</td>\n",
       "      <td>210000000.0</td>\n",
       "      <td>105487148.0</td>\n",
       "      <td>3.224590e+08</td>\n",
       "      <td>2010</td>\n",
       "      <td>216971858.0</td>\n",
       "    </tr>\n",
       "    <tr>\n",
       "      <td>44</td>\n",
       "      <td>unstoppable</td>\n",
       "      <td>WGUSA</td>\n",
       "      <td>2018</td>\n",
       "      <td>unstoppable</td>\n",
       "      <td>2010-11-12</td>\n",
       "      <td>95000000.0</td>\n",
       "      <td>81562942.0</td>\n",
       "      <td>1.657209e+08</td>\n",
       "      <td>2010</td>\n",
       "      <td>84157979.0</td>\n",
       "    </tr>\n",
       "    <tr>\n",
       "      <td>61</td>\n",
       "      <td>the girl with the dragon tattoo</td>\n",
       "      <td>MBox</td>\n",
       "      <td>2010</td>\n",
       "      <td>the girl with the dragon tattoo</td>\n",
       "      <td>2011-12-20</td>\n",
       "      <td>90000000.0</td>\n",
       "      <td>102515793.0</td>\n",
       "      <td>2.393740e+08</td>\n",
       "      <td>2011</td>\n",
       "      <td>136858177.0</td>\n",
       "    </tr>\n",
       "    <tr>\n",
       "      <td>115</td>\n",
       "      <td>leap year</td>\n",
       "      <td>Strand</td>\n",
       "      <td>2011</td>\n",
       "      <td>leap year</td>\n",
       "      <td>2010-01-08</td>\n",
       "      <td>19000000.0</td>\n",
       "      <td>25918920.0</td>\n",
       "      <td>3.261892e+07</td>\n",
       "      <td>2010</td>\n",
       "      <td>6700000.0</td>\n",
       "    </tr>\n",
       "    <tr>\n",
       "      <td>134</td>\n",
       "      <td>mother</td>\n",
       "      <td>Magn.</td>\n",
       "      <td>2010</td>\n",
       "      <td>mother</td>\n",
       "      <td>2017-09-15</td>\n",
       "      <td>30000000.0</td>\n",
       "      <td>17800004.0</td>\n",
       "      <td>4.253108e+07</td>\n",
       "      <td>2017</td>\n",
       "      <td>24731072.0</td>\n",
       "    </tr>\n",
       "    <tr>\n",
       "      <td>173</td>\n",
       "      <td>frozen</td>\n",
       "      <td>Anch.</td>\n",
       "      <td>2010</td>\n",
       "      <td>frozen</td>\n",
       "      <td>2013-11-22</td>\n",
       "      <td>150000000.0</td>\n",
       "      <td>400738009.0</td>\n",
       "      <td>1.272470e+09</td>\n",
       "      <td>2013</td>\n",
       "      <td>871731901.0</td>\n",
       "    </tr>\n",
       "    <tr>\n",
       "      <td>201</td>\n",
       "      <td>the girl on the train</td>\n",
       "      <td>Strand</td>\n",
       "      <td>2010</td>\n",
       "      <td>the girl on the train</td>\n",
       "      <td>2016-10-07</td>\n",
       "      <td>45000000.0</td>\n",
       "      <td>75395035.0</td>\n",
       "      <td>1.742782e+08</td>\n",
       "      <td>2016</td>\n",
       "      <td>98883179.0</td>\n",
       "    </tr>\n",
       "    <tr>\n",
       "      <td>268</td>\n",
       "      <td>the iron lady</td>\n",
       "      <td>Wein.</td>\n",
       "      <td>2011</td>\n",
       "      <td>the iron lady</td>\n",
       "      <td>2012-01-13</td>\n",
       "      <td>14000000.0</td>\n",
       "      <td>29959436.0</td>\n",
       "      <td>1.155921e+08</td>\n",
       "      <td>2012</td>\n",
       "      <td>85632668.0</td>\n",
       "    </tr>\n",
       "    <tr>\n",
       "      <td>357</td>\n",
       "      <td>we need to talk about kevin</td>\n",
       "      <td>Osci.</td>\n",
       "      <td>2011</td>\n",
       "      <td>we need to talk about kevin</td>\n",
       "      <td>2012-01-13</td>\n",
       "      <td>7000000.0</td>\n",
       "      <td>1738692.0</td>\n",
       "      <td>1.076528e+07</td>\n",
       "      <td>2012</td>\n",
       "      <td>9026591.0</td>\n",
       "    </tr>\n",
       "    <tr>\n",
       "      <td>362</td>\n",
       "      <td>like crazy</td>\n",
       "      <td>Strand</td>\n",
       "      <td>2017</td>\n",
       "      <td>like crazy</td>\n",
       "      <td>2011-10-28</td>\n",
       "      <td>250000.0</td>\n",
       "      <td>3395391.0</td>\n",
       "      <td>3.728400e+06</td>\n",
       "      <td>2011</td>\n",
       "      <td>333009.0</td>\n",
       "    </tr>\n",
       "    <tr>\n",
       "      <td>385</td>\n",
       "      <td>the other woman</td>\n",
       "      <td>IFC</td>\n",
       "      <td>2011</td>\n",
       "      <td>the other woman</td>\n",
       "      <td>2014-04-25</td>\n",
       "      <td>40000000.0</td>\n",
       "      <td>83911193.0</td>\n",
       "      <td>1.951112e+08</td>\n",
       "      <td>2014</td>\n",
       "      <td>111200000.0</td>\n",
       "    </tr>\n",
       "    <tr>\n",
       "      <td>394</td>\n",
       "      <td>beautiful boy</td>\n",
       "      <td>Anch.</td>\n",
       "      <td>2011</td>\n",
       "      <td>beautiful boy</td>\n",
       "      <td>2018-10-12</td>\n",
       "      <td>25000000.0</td>\n",
       "      <td>7634767.0</td>\n",
       "      <td>1.303142e+07</td>\n",
       "      <td>2018</td>\n",
       "      <td>5396657.0</td>\n",
       "    </tr>\n",
       "    <tr>\n",
       "      <td>400</td>\n",
       "      <td>blood ties</td>\n",
       "      <td>ALP</td>\n",
       "      <td>2011</td>\n",
       "      <td>blood ties</td>\n",
       "      <td>2014-03-21</td>\n",
       "      <td>26000000.0</td>\n",
       "      <td>42472.0</td>\n",
       "      <td>2.923959e+06</td>\n",
       "      <td>2014</td>\n",
       "      <td>2881487.0</td>\n",
       "    </tr>\n",
       "    <tr>\n",
       "      <td>531</td>\n",
       "      <td>the apparition</td>\n",
       "      <td>MBox</td>\n",
       "      <td>2018</td>\n",
       "      <td>the apparition</td>\n",
       "      <td>2012-08-24</td>\n",
       "      <td>17000000.0</td>\n",
       "      <td>4936819.0</td>\n",
       "      <td>1.063728e+07</td>\n",
       "      <td>2012</td>\n",
       "      <td>5700462.0</td>\n",
       "    </tr>\n",
       "    <tr>\n",
       "      <td>534</td>\n",
       "      <td>on the road</td>\n",
       "      <td>IFC</td>\n",
       "      <td>2012</td>\n",
       "      <td>on the road</td>\n",
       "      <td>2013-03-22</td>\n",
       "      <td>25000000.0</td>\n",
       "      <td>720828.0</td>\n",
       "      <td>9.313302e+06</td>\n",
       "      <td>2013</td>\n",
       "      <td>8592474.0</td>\n",
       "    </tr>\n",
       "    <tr>\n",
       "      <td>535</td>\n",
       "      <td>promised land</td>\n",
       "      <td>Focus</td>\n",
       "      <td>2012</td>\n",
       "      <td>promised land</td>\n",
       "      <td>2013-01-04</td>\n",
       "      <td>15000000.0</td>\n",
       "      <td>7597898.0</td>\n",
       "      <td>1.239456e+07</td>\n",
       "      <td>2013</td>\n",
       "      <td>4796664.0</td>\n",
       "    </tr>\n",
       "    <tr>\n",
       "      <td>539</td>\n",
       "      <td>albert nobbs</td>\n",
       "      <td>RAtt.</td>\n",
       "      <td>2012</td>\n",
       "      <td>albert nobbs</td>\n",
       "      <td>2011-12-21</td>\n",
       "      <td>7500000.0</td>\n",
       "      <td>3014696.0</td>\n",
       "      <td>8.539003e+06</td>\n",
       "      <td>2011</td>\n",
       "      <td>5524307.0</td>\n",
       "    </tr>\n",
       "    <tr>\n",
       "      <td>659</td>\n",
       "      <td>her</td>\n",
       "      <td>WB</td>\n",
       "      <td>2013</td>\n",
       "      <td>her</td>\n",
       "      <td>2014-01-10</td>\n",
       "      <td>23000000.0</td>\n",
       "      <td>25568251.0</td>\n",
       "      <td>4.816382e+07</td>\n",
       "      <td>2014</td>\n",
       "      <td>22595564.0</td>\n",
       "    </tr>\n",
       "    <tr>\n",
       "      <td>667</td>\n",
       "      <td>snitch</td>\n",
       "      <td>LG/S</td>\n",
       "      <td>2013</td>\n",
       "      <td>snitch</td>\n",
       "      <td>2012-12-31</td>\n",
       "      <td>850000.0</td>\n",
       "      <td>0.0</td>\n",
       "      <td>0.000000e+00</td>\n",
       "      <td>2012</td>\n",
       "      <td>0.0</td>\n",
       "    </tr>\n",
       "    <tr>\n",
       "      <td>683</td>\n",
       "      <td>trance</td>\n",
       "      <td>FoxS</td>\n",
       "      <td>2013</td>\n",
       "      <td>trance</td>\n",
       "      <td>2012-12-31</td>\n",
       "      <td>950000.0</td>\n",
       "      <td>0.0</td>\n",
       "      <td>0.000000e+00</td>\n",
       "      <td>2012</td>\n",
       "      <td>0.0</td>\n",
       "    </tr>\n",
       "    <tr>\n",
       "      <td>708</td>\n",
       "      <td>believe</td>\n",
       "      <td>ORF</td>\n",
       "      <td>2013</td>\n",
       "      <td>believe</td>\n",
       "      <td>2016-12-02</td>\n",
       "      <td>3500000.0</td>\n",
       "      <td>890303.0</td>\n",
       "      <td>8.903030e+05</td>\n",
       "      <td>2016</td>\n",
       "      <td>0.0</td>\n",
       "    </tr>\n",
       "    <tr>\n",
       "      <td>717</td>\n",
       "      <td>the wall</td>\n",
       "      <td>MBox</td>\n",
       "      <td>2013</td>\n",
       "      <td>the wall</td>\n",
       "      <td>2017-05-12</td>\n",
       "      <td>3000000.0</td>\n",
       "      <td>1803064.0</td>\n",
       "      <td>4.495262e+06</td>\n",
       "      <td>2017</td>\n",
       "      <td>2692198.0</td>\n",
       "    </tr>\n",
       "    <tr>\n",
       "      <td>804</td>\n",
       "      <td>selma</td>\n",
       "      <td>Par.</td>\n",
       "      <td>2014</td>\n",
       "      <td>selma</td>\n",
       "      <td>2015-01-09</td>\n",
       "      <td>20000000.0</td>\n",
       "      <td>52076908.0</td>\n",
       "      <td>6.677658e+07</td>\n",
       "      <td>2015</td>\n",
       "      <td>14699668.0</td>\n",
       "    </tr>\n",
       "    <tr>\n",
       "      <td>860</td>\n",
       "      <td>mommy</td>\n",
       "      <td>RAtt.</td>\n",
       "      <td>2014</td>\n",
       "      <td>mommy</td>\n",
       "      <td>2015-01-23</td>\n",
       "      <td>4900000.0</td>\n",
       "      <td>3498695.0</td>\n",
       "      <td>1.753600e+07</td>\n",
       "      <td>2015</td>\n",
       "      <td>14037309.0</td>\n",
       "    </tr>\n",
       "    <tr>\n",
       "      <td>870</td>\n",
       "      <td>highway</td>\n",
       "      <td>UTV</td>\n",
       "      <td>2014</td>\n",
       "      <td>highway</td>\n",
       "      <td>2012-12-31</td>\n",
       "      <td>2000000.0</td>\n",
       "      <td>0.0</td>\n",
       "      <td>0.000000e+00</td>\n",
       "      <td>2012</td>\n",
       "      <td>0.0</td>\n",
       "    </tr>\n",
       "    <tr>\n",
       "      <td>981</td>\n",
       "      <td>the lady in the van</td>\n",
       "      <td>SPC</td>\n",
       "      <td>2015</td>\n",
       "      <td>the lady in the van</td>\n",
       "      <td>2016-01-15</td>\n",
       "      <td>6000000.0</td>\n",
       "      <td>10021175.0</td>\n",
       "      <td>4.232050e+07</td>\n",
       "      <td>2016</td>\n",
       "      <td>32299328.0</td>\n",
       "    </tr>\n",
       "    <tr>\n",
       "      <td>1026</td>\n",
       "      <td>youth</td>\n",
       "      <td>CL</td>\n",
       "      <td>2017</td>\n",
       "      <td>youth</td>\n",
       "      <td>2015-12-04</td>\n",
       "      <td>13000000.0</td>\n",
       "      <td>2703296.0</td>\n",
       "      <td>2.400157e+07</td>\n",
       "      <td>2015</td>\n",
       "      <td>21298277.0</td>\n",
       "    </tr>\n",
       "    <tr>\n",
       "      <td>1034</td>\n",
       "      <td>phantom</td>\n",
       "      <td>UTV</td>\n",
       "      <td>2015</td>\n",
       "      <td>phantom</td>\n",
       "      <td>2013-03-01</td>\n",
       "      <td>18000000.0</td>\n",
       "      <td>1034589.0</td>\n",
       "      <td>1.199510e+06</td>\n",
       "      <td>2013</td>\n",
       "      <td>164921.0</td>\n",
       "    </tr>\n",
       "    <tr>\n",
       "      <td>1038</td>\n",
       "      <td>eden</td>\n",
       "      <td>BG</td>\n",
       "      <td>2015</td>\n",
       "      <td>eden</td>\n",
       "      <td>2016-01-19</td>\n",
       "      <td>2300000.0</td>\n",
       "      <td>0.0</td>\n",
       "      <td>0.000000e+00</td>\n",
       "      <td>2016</td>\n",
       "      <td>0.0</td>\n",
       "    </tr>\n",
       "    <tr>\n",
       "      <td>1139</td>\n",
       "      <td>a monster calls</td>\n",
       "      <td>Focus</td>\n",
       "      <td>2016</td>\n",
       "      <td>a monster calls</td>\n",
       "      <td>2017-01-06</td>\n",
       "      <td>43000000.0</td>\n",
       "      <td>3740823.0</td>\n",
       "      <td>4.641453e+07</td>\n",
       "      <td>2017</td>\n",
       "      <td>42673707.0</td>\n",
       "    </tr>\n",
       "    <tr>\n",
       "      <td>1166</td>\n",
       "      <td>regression</td>\n",
       "      <td>W/Dim.</td>\n",
       "      <td>2016</td>\n",
       "      <td>regression</td>\n",
       "      <td>2015-10-30</td>\n",
       "      <td>20000000.0</td>\n",
       "      <td>55039.0</td>\n",
       "      <td>1.582437e+07</td>\n",
       "      <td>2015</td>\n",
       "      <td>15769335.0</td>\n",
       "    </tr>\n",
       "    <tr>\n",
       "      <td>1333</td>\n",
       "      <td>the square</td>\n",
       "      <td>Magn.</td>\n",
       "      <td>2017</td>\n",
       "      <td>the square</td>\n",
       "      <td>2010-04-09</td>\n",
       "      <td>1900000.0</td>\n",
       "      <td>406216.0</td>\n",
       "      <td>7.409320e+05</td>\n",
       "      <td>2010</td>\n",
       "      <td>334716.0</td>\n",
       "    </tr>\n",
       "    <tr>\n",
       "      <td>1334</td>\n",
       "      <td>the square</td>\n",
       "      <td>Magn.</td>\n",
       "      <td>2017</td>\n",
       "      <td>the square</td>\n",
       "      <td>2013-10-25</td>\n",
       "      <td>1500000.0</td>\n",
       "      <td>124244.0</td>\n",
       "      <td>1.762620e+05</td>\n",
       "      <td>2013</td>\n",
       "      <td>52018.0</td>\n",
       "    </tr>\n",
       "  </tbody>\n",
       "</table>\n",
       "</div>"
      ],
      "text/plain": [
       "                                title  studio  bom_year  \\\n",
       "17                         robin hood    Uni.      2010   \n",
       "18                         robin hood    LG/S      2018   \n",
       "44                        unstoppable   WGUSA      2018   \n",
       "61    the girl with the dragon tattoo    MBox      2010   \n",
       "115                         leap year  Strand      2011   \n",
       "134                            mother   Magn.      2010   \n",
       "173                            frozen   Anch.      2010   \n",
       "201             the girl on the train  Strand      2010   \n",
       "268                     the iron lady   Wein.      2011   \n",
       "357       we need to talk about kevin   Osci.      2011   \n",
       "362                        like crazy  Strand      2017   \n",
       "385                   the other woman     IFC      2011   \n",
       "394                     beautiful boy   Anch.      2011   \n",
       "400                        blood ties     ALP      2011   \n",
       "531                    the apparition    MBox      2018   \n",
       "534                       on the road     IFC      2012   \n",
       "535                     promised land   Focus      2012   \n",
       "539                      albert nobbs   RAtt.      2012   \n",
       "659                               her      WB      2013   \n",
       "667                            snitch    LG/S      2013   \n",
       "683                            trance    FoxS      2013   \n",
       "708                           believe     ORF      2013   \n",
       "717                          the wall    MBox      2013   \n",
       "804                             selma    Par.      2014   \n",
       "860                             mommy   RAtt.      2014   \n",
       "870                           highway     UTV      2014   \n",
       "981               the lady in the van     SPC      2015   \n",
       "1026                            youth      CL      2017   \n",
       "1034                          phantom     UTV      2015   \n",
       "1038                             eden      BG      2015   \n",
       "1139                  a monster calls   Focus      2016   \n",
       "1166                       regression  W/Dim.      2016   \n",
       "1333                       the square   Magn.      2017   \n",
       "1334                       the square   Magn.      2017   \n",
       "\n",
       "                                movie release_date  production_budget  \\\n",
       "17                         robin hood   2018-11-21         99000000.0   \n",
       "18                         robin hood   2010-05-14        210000000.0   \n",
       "44                        unstoppable   2010-11-12         95000000.0   \n",
       "61    the girl with the dragon tattoo   2011-12-20         90000000.0   \n",
       "115                         leap year   2010-01-08         19000000.0   \n",
       "134                            mother   2017-09-15         30000000.0   \n",
       "173                            frozen   2013-11-22        150000000.0   \n",
       "201             the girl on the train   2016-10-07         45000000.0   \n",
       "268                     the iron lady   2012-01-13         14000000.0   \n",
       "357       we need to talk about kevin   2012-01-13          7000000.0   \n",
       "362                        like crazy   2011-10-28           250000.0   \n",
       "385                   the other woman   2014-04-25         40000000.0   \n",
       "394                     beautiful boy   2018-10-12         25000000.0   \n",
       "400                        blood ties   2014-03-21         26000000.0   \n",
       "531                    the apparition   2012-08-24         17000000.0   \n",
       "534                       on the road   2013-03-22         25000000.0   \n",
       "535                     promised land   2013-01-04         15000000.0   \n",
       "539                      albert nobbs   2011-12-21          7500000.0   \n",
       "659                               her   2014-01-10         23000000.0   \n",
       "667                            snitch   2012-12-31           850000.0   \n",
       "683                            trance   2012-12-31           950000.0   \n",
       "708                           believe   2016-12-02          3500000.0   \n",
       "717                          the wall   2017-05-12          3000000.0   \n",
       "804                             selma   2015-01-09         20000000.0   \n",
       "860                             mommy   2015-01-23          4900000.0   \n",
       "870                           highway   2012-12-31          2000000.0   \n",
       "981               the lady in the van   2016-01-15          6000000.0   \n",
       "1026                            youth   2015-12-04         13000000.0   \n",
       "1034                          phantom   2013-03-01         18000000.0   \n",
       "1038                             eden   2016-01-19          2300000.0   \n",
       "1139                  a monster calls   2017-01-06         43000000.0   \n",
       "1166                       regression   2015-10-30         20000000.0   \n",
       "1333                       the square   2010-04-09          1900000.0   \n",
       "1334                       the square   2013-10-25          1500000.0   \n",
       "\n",
       "      domestic_gross  worldwide_gross  tn_year  foreign_gross  \n",
       "17        30824628.0     8.474744e+07     2018     53922813.0  \n",
       "18       105487148.0     3.224590e+08     2010    216971858.0  \n",
       "44        81562942.0     1.657209e+08     2010     84157979.0  \n",
       "61       102515793.0     2.393740e+08     2011    136858177.0  \n",
       "115       25918920.0     3.261892e+07     2010      6700000.0  \n",
       "134       17800004.0     4.253108e+07     2017     24731072.0  \n",
       "173      400738009.0     1.272470e+09     2013    871731901.0  \n",
       "201       75395035.0     1.742782e+08     2016     98883179.0  \n",
       "268       29959436.0     1.155921e+08     2012     85632668.0  \n",
       "357        1738692.0     1.076528e+07     2012      9026591.0  \n",
       "362        3395391.0     3.728400e+06     2011       333009.0  \n",
       "385       83911193.0     1.951112e+08     2014    111200000.0  \n",
       "394        7634767.0     1.303142e+07     2018      5396657.0  \n",
       "400          42472.0     2.923959e+06     2014      2881487.0  \n",
       "531        4936819.0     1.063728e+07     2012      5700462.0  \n",
       "534         720828.0     9.313302e+06     2013      8592474.0  \n",
       "535        7597898.0     1.239456e+07     2013      4796664.0  \n",
       "539        3014696.0     8.539003e+06     2011      5524307.0  \n",
       "659       25568251.0     4.816382e+07     2014     22595564.0  \n",
       "667              0.0     0.000000e+00     2012            0.0  \n",
       "683              0.0     0.000000e+00     2012            0.0  \n",
       "708         890303.0     8.903030e+05     2016            0.0  \n",
       "717        1803064.0     4.495262e+06     2017      2692198.0  \n",
       "804       52076908.0     6.677658e+07     2015     14699668.0  \n",
       "860        3498695.0     1.753600e+07     2015     14037309.0  \n",
       "870              0.0     0.000000e+00     2012            0.0  \n",
       "981       10021175.0     4.232050e+07     2016     32299328.0  \n",
       "1026       2703296.0     2.400157e+07     2015     21298277.0  \n",
       "1034       1034589.0     1.199510e+06     2013       164921.0  \n",
       "1038             0.0     0.000000e+00     2016            0.0  \n",
       "1139       3740823.0     4.641453e+07     2017     42673707.0  \n",
       "1166         55039.0     1.582437e+07     2015     15769335.0  \n",
       "1333        406216.0     7.409320e+05     2010       334716.0  \n",
       "1334        124244.0     1.762620e+05     2013        52018.0  "
      ]
     },
     "execution_count": 35,
     "metadata": {},
     "output_type": "execute_result"
    }
   ],
   "source": [
    "# Investigating potential duplicate records where the years don't match\n",
    "studio_movie_performance_inner.loc[studio_movie_performance_inner.bom_year \n",
    "                                   != studio_movie_performance_inner.tn_year]"
   ]
  },
  {
   "cell_type": "code",
   "execution_count": 36,
   "metadata": {},
   "outputs": [
    {
     "data": {
      "text/html": [
       "<div>\n",
       "<style scoped>\n",
       "    .dataframe tbody tr th:only-of-type {\n",
       "        vertical-align: middle;\n",
       "    }\n",
       "\n",
       "    .dataframe tbody tr th {\n",
       "        vertical-align: top;\n",
       "    }\n",
       "\n",
       "    .dataframe thead th {\n",
       "        text-align: right;\n",
       "    }\n",
       "</style>\n",
       "<table border=\"1\" class=\"dataframe\">\n",
       "  <thead>\n",
       "    <tr style=\"text-align: right;\">\n",
       "      <th></th>\n",
       "      <th>title</th>\n",
       "      <th>studio</th>\n",
       "      <th>bom_year</th>\n",
       "      <th>movie</th>\n",
       "      <th>release_date</th>\n",
       "      <th>production_budget</th>\n",
       "      <th>domestic_gross</th>\n",
       "      <th>worldwide_gross</th>\n",
       "      <th>tn_year</th>\n",
       "      <th>foreign_gross</th>\n",
       "    </tr>\n",
       "  </thead>\n",
       "  <tbody>\n",
       "    <tr>\n",
       "      <td>16</td>\n",
       "      <td>robin hood</td>\n",
       "      <td>Uni.</td>\n",
       "      <td>2010</td>\n",
       "      <td>robin hood</td>\n",
       "      <td>2010-05-14</td>\n",
       "      <td>210000000.0</td>\n",
       "      <td>105487148.0</td>\n",
       "      <td>322459006.0</td>\n",
       "      <td>2010</td>\n",
       "      <td>216971858.0</td>\n",
       "    </tr>\n",
       "    <tr>\n",
       "      <td>17</td>\n",
       "      <td>robin hood</td>\n",
       "      <td>Uni.</td>\n",
       "      <td>2010</td>\n",
       "      <td>robin hood</td>\n",
       "      <td>2018-11-21</td>\n",
       "      <td>99000000.0</td>\n",
       "      <td>30824628.0</td>\n",
       "      <td>84747441.0</td>\n",
       "      <td>2018</td>\n",
       "      <td>53922813.0</td>\n",
       "    </tr>\n",
       "    <tr>\n",
       "      <td>18</td>\n",
       "      <td>robin hood</td>\n",
       "      <td>LG/S</td>\n",
       "      <td>2018</td>\n",
       "      <td>robin hood</td>\n",
       "      <td>2010-05-14</td>\n",
       "      <td>210000000.0</td>\n",
       "      <td>105487148.0</td>\n",
       "      <td>322459006.0</td>\n",
       "      <td>2010</td>\n",
       "      <td>216971858.0</td>\n",
       "    </tr>\n",
       "    <tr>\n",
       "      <td>19</td>\n",
       "      <td>robin hood</td>\n",
       "      <td>LG/S</td>\n",
       "      <td>2018</td>\n",
       "      <td>robin hood</td>\n",
       "      <td>2018-11-21</td>\n",
       "      <td>99000000.0</td>\n",
       "      <td>30824628.0</td>\n",
       "      <td>84747441.0</td>\n",
       "      <td>2018</td>\n",
       "      <td>53922813.0</td>\n",
       "    </tr>\n",
       "  </tbody>\n",
       "</table>\n",
       "</div>"
      ],
      "text/plain": [
       "         title studio  bom_year       movie release_date  production_budget  \\\n",
       "16  robin hood   Uni.      2010  robin hood   2010-05-14        210000000.0   \n",
       "17  robin hood   Uni.      2010  robin hood   2018-11-21         99000000.0   \n",
       "18  robin hood   LG/S      2018  robin hood   2010-05-14        210000000.0   \n",
       "19  robin hood   LG/S      2018  robin hood   2018-11-21         99000000.0   \n",
       "\n",
       "    domestic_gross  worldwide_gross  tn_year  foreign_gross  \n",
       "16     105487148.0      322459006.0     2010    216971858.0  \n",
       "17      30824628.0       84747441.0     2018     53922813.0  \n",
       "18     105487148.0      322459006.0     2010    216971858.0  \n",
       "19      30824628.0       84747441.0     2018     53922813.0  "
      ]
     },
     "execution_count": 36,
     "metadata": {},
     "output_type": "execute_result"
    }
   ],
   "source": [
    "# The nature of the inner join created some unwanted records\n",
    "studio_movie_performance_inner.loc[studio_movie_performance_inner.title == 'robin hood']"
   ]
  },
  {
   "cell_type": "code",
   "execution_count": 37,
   "metadata": {},
   "outputs": [],
   "source": [
    "# Removing the mismatched data based on the years\n",
    "studio_movie_performance_inner = studio_movie_performance_inner.loc[studio_movie_performance_inner.bom_year\n",
    "                                                                    == studio_movie_performance_inner.tn_year].copy()"
   ]
  },
  {
   "cell_type": "markdown",
   "metadata": {},
   "source": [
    "### 5. Creating DataFrame of Unique IMDb Movie Titles with \"tconst\" Code "
   ]
  },
  {
   "cell_type": "markdown",
   "metadata": {},
   "source": [
    "We created a dataframe of IMDb titles to match movie titles in studio_movie_performance_inner with \"tconst\" values."
   ]
  },
  {
   "cell_type": "code",
   "execution_count": 38,
   "metadata": {},
   "outputs": [],
   "source": [
    "# Creating dataframe of imdb titles.\n",
    "imdb_titles = imdb_df3.reset_index()"
   ]
  },
  {
   "cell_type": "code",
   "execution_count": 39,
   "metadata": {},
   "outputs": [],
   "source": [
    "# Creating subsets of the dataframe with the unique IMDb title ID (i.e. tconst).\n",
    "primary_titles = imdb_titles[['tconst', 'primary_title', 'start_year', 'num_votes']].copy()\n",
    "original_titles = imdb_titles[['tconst', 'original_title', 'start_year', 'num_votes']].copy()\n",
    "primary_titles.columns = ['tconst', 'title', 'imdb_year', 'num_votes']\n",
    "original_titles.columns = ['tconst', 'title', 'imdb_year', 'num_votes']"
   ]
  },
  {
   "cell_type": "code",
   "execution_count": 40,
   "metadata": {},
   "outputs": [],
   "source": [
    "# These are then concatenated and duplicates are removed \n",
    "# to provide a map between all potential IMDb titles and their unique IDs.\n",
    "imdb_titles_only = pd.concat([primary_titles, original_titles])"
   ]
  },
  {
   "cell_type": "code",
   "execution_count": 41,
   "metadata": {},
   "outputs": [],
   "source": [
    "# Standardizing the title formats.\n",
    "title_string_format_standardization(imdb_titles_only, 'title')"
   ]
  },
  {
   "cell_type": "code",
   "execution_count": 42,
   "metadata": {},
   "outputs": [],
   "source": [
    "# Removing duplicates.\n",
    "imdb_titles_only = imdb_titles_only.loc[imdb_titles_only.duplicated() == False]\n",
    "imdb_titles_only.dropna(inplace=True)"
   ]
  },
  {
   "cell_type": "code",
   "execution_count": 43,
   "metadata": {},
   "outputs": [],
   "source": [
    "# Resetting index\n",
    "imdb_titles_only.reset_index(inplace=True, drop=True)"
   ]
  },
  {
   "cell_type": "markdown",
   "metadata": {},
   "source": [
    "### 6. Joining Unique IMDb DataFrame with Joined Budget & Revenue DataFrame"
   ]
  },
  {
   "cell_type": "markdown",
   "metadata": {},
   "source": [
    "#### a. Joining"
   ]
  },
  {
   "cell_type": "code",
   "execution_count": 44,
   "metadata": {},
   "outputs": [],
   "source": [
    "# Joining the unique IMDb title ID (i.e. tconst) with the budget, revenue and studio data.\n",
    "studio_movie_performance_inner_w_imdb = studio_movie_performance_inner.merge(right=imdb_titles_only,\n",
    "                                                                             how='inner',\n",
    "                                                                             left_on='title',\n",
    "                                                                             right_on='title')"
   ]
  },
  {
   "cell_type": "markdown",
   "metadata": {},
   "source": [
    "#### b. Handling Duplicates"
   ]
  },
  {
   "cell_type": "code",
   "execution_count": 45,
   "metadata": {},
   "outputs": [],
   "source": [
    "# Tracking down duplicates, shortening df name to make this code shorter.\n",
    "smpiwi = studio_movie_performance_inner_w_imdb.copy()\n",
    "smpiwi['duplicates'] = smpiwi.title.apply(lambda x:\n",
    "                                          len(smpiwi.title.loc[smpiwi.title == x]))"
   ]
  },
  {
   "cell_type": "code",
   "execution_count": 46,
   "metadata": {},
   "outputs": [
    {
     "data": {
      "text/plain": [
       "548"
      ]
     },
     "execution_count": 46,
     "metadata": {},
     "output_type": "execute_result"
    }
   ],
   "source": [
    "# Lots of duplicates that will need to be addressed\n",
    "len(smpiwi.loc[smpiwi.duplicates > 1])"
   ]
  },
  {
   "cell_type": "code",
   "execution_count": 47,
   "metadata": {},
   "outputs": [],
   "source": [
    "# Only retaining records where the year in the Budget and Revenue data matches IMDb\n",
    "smpiwi = smpiwi.loc[smpiwi.bom_year == smpiwi.imdb_year]"
   ]
  },
  {
   "cell_type": "code",
   "execution_count": 48,
   "metadata": {},
   "outputs": [],
   "source": [
    "# Recreating the duplicate count after trimming the dataset\n",
    "smpiwi['duplicates'] = smpiwi.title.apply(lambda x:\n",
    "                                          len(smpiwi.title.loc[smpiwi.title == x]))"
   ]
  },
  {
   "cell_type": "markdown",
   "metadata": {},
   "source": [
    "When reviewing the remaining the remaining duplicates to identify trends, we discovered a significant difference in the number of votes between duplicate movies. We proceeded with the assumption that the movie with more votes is likely the one for which budget data is available. Therefore, we decided to keep the duplicate value with the highest vote count."
   ]
  },
  {
   "cell_type": "code",
   "execution_count": 49,
   "metadata": {},
   "outputs": [],
   "source": [
    "# Initializing a column of falses to then remove Trues\n",
    "smpiwi['duplicate_to_delete'] = False"
   ]
  },
  {
   "cell_type": "code",
   "execution_count": 50,
   "metadata": {},
   "outputs": [],
   "source": [
    "# Looping through and identifying duplicate movies with lower vote counts as True duplicate_to_delete\n",
    "for index in smpiwi.index:\n",
    "    if smpiwi.loc[index, 'duplicates'] > 1:\n",
    "        index_title = smpiwi.loc[index, 'title']\n",
    "        index_year = smpiwi.loc[index, 'imdb_year']\n",
    "        index_num_votes = smpiwi.loc[index, 'num_votes']\n",
    "        if smpiwi.num_votes.loc[(smpiwi.title == index_title) \n",
    "                               & (smpiwi.imdb_year == index_year)].max() != index_num_votes:\n",
    "            smpiwi.at[index, 'duplicate_to_delete'] = True    "
   ]
  },
  {
   "cell_type": "markdown",
   "metadata": {},
   "source": [
    "#### c. Preparing for Final DataFrame"
   ]
  },
  {
   "cell_type": "code",
   "execution_count": 51,
   "metadata": {},
   "outputs": [],
   "source": [
    "# Preparing columns for final dataframe\n",
    "smpiwi.rename(columns= {'bom_year': 'year'}, inplace=True)"
   ]
  },
  {
   "cell_type": "code",
   "execution_count": 52,
   "metadata": {},
   "outputs": [],
   "source": [
    "# Removing the last of the duplicates and only keeping certain rows\n",
    "studio_movie_performance_inner_w_imdb = smpiwi[['title', 'studio', 'year', 'release_date', 'production_budget',\n",
    "                                                'domestic_gross', 'worldwide_gross', 'foreign_gross',\n",
    "                                                'tconst']].loc[smpiwi.duplicate_to_delete == False].copy()"
   ]
  },
  {
   "cell_type": "code",
   "execution_count": 53,
   "metadata": {},
   "outputs": [],
   "source": [
    "studio_movie_performance_inner_w_imdb.reset_index(inplace=True)\n",
    "studio_movie_performance_inner_w_imdb.drop('index', axis=1, inplace=True)"
   ]
  },
  {
   "cell_type": "code",
   "execution_count": 54,
   "metadata": {},
   "outputs": [],
   "source": [
    "#studio_movie_performance_inner_w_imdb.head()"
   ]
  },
  {
   "cell_type": "code",
   "execution_count": 55,
   "metadata": {},
   "outputs": [],
   "source": [
    "#studio_movie_performance_inner_w_imdb.info()"
   ]
  },
  {
   "cell_type": "markdown",
   "metadata": {},
   "source": [
    "## IV. Joining IMDb Data with Budget & Revenue Data"
   ]
  },
  {
   "cell_type": "markdown",
   "metadata": {},
   "source": [
    "### 1. Joining Budget and Revenue Data to IMDB Data"
   ]
  },
  {
   "cell_type": "code",
   "execution_count": 56,
   "metadata": {},
   "outputs": [],
   "source": [
    "# create studio_movie_performance & define index\n",
    "studio_movie_performance = studio_movie_performance_inner_w_imdb.set_index('tconst')"
   ]
  },
  {
   "cell_type": "code",
   "execution_count": 57,
   "metadata": {},
   "outputs": [],
   "source": [
    "# join studio_movie_performance\n",
    "imdb_df4 = imdb_df3.join(studio_movie_performance, how='inner')"
   ]
  },
  {
   "cell_type": "markdown",
   "metadata": {},
   "source": [
    "### 2. Creating Columns with Boolean Values for Each Genre"
   ]
  },
  {
   "cell_type": "code",
   "execution_count": 58,
   "metadata": {},
   "outputs": [
    {
     "data": {
      "text/plain": [
       "tconst\n",
       "tt1258972                        Action\n",
       "tt2295722              Action,Adventure\n",
       "tt2267968    Action,Adventure,Animation\n",
       "tt0892769    Action,Adventure,Animation\n",
       "tt1446192    Action,Adventure,Animation\n",
       "                        ...            \n",
       "tt2172935                         Music\n",
       "tt1650062       Mystery,Sci-Fi,Thriller\n",
       "tt1219289       Mystery,Sci-Fi,Thriller\n",
       "tt1130884              Mystery,Thriller\n",
       "tt1385826       Romance,Sci-Fi,Thriller\n",
       "Name: genres, Length: 1226, dtype: object"
      ]
     },
     "execution_count": 58,
     "metadata": {},
     "output_type": "execute_result"
    }
   ],
   "source": [
    "# Alphabetizing genre lists in genres column\n",
    "imdb_df4['genres'].sort_values()"
   ]
  },
  {
   "cell_type": "code",
   "execution_count": 59,
   "metadata": {},
   "outputs": [],
   "source": [
    "# Making string in genres column a list and splitting elements in the list\n",
    "imdb_df4['genres'] = imdb_df4['genres'].str.split(\",\")"
   ]
  },
  {
   "cell_type": "code",
   "execution_count": 60,
   "metadata": {},
   "outputs": [
    {
     "data": {
      "text/plain": [
       "['Adventure', 'Comedy', 'Drama', 'Action', 'Crime', 'Drama']"
      ]
     },
     "execution_count": 60,
     "metadata": {},
     "output_type": "execute_result"
    }
   ],
   "source": [
    "# Createing list of all genres\n",
    "unique_genres = []\n",
    "for genres in imdb_df4.genres:\n",
    "    for genre in genres:\n",
    "        unique_genres.append(genre)\n",
    "\n",
    "unique_genres[0:6]"
   ]
  },
  {
   "cell_type": "code",
   "execution_count": 61,
   "metadata": {},
   "outputs": [],
   "source": [
    "# Creating list of unique genres\n",
    "sorted_unique_genre_list = list(set(unique_genres))"
   ]
  },
  {
   "cell_type": "code",
   "execution_count": 62,
   "metadata": {},
   "outputs": [],
   "source": [
    "# Sorting list of unique genres\n",
    "sorted_unique_genre_list.sort()"
   ]
  },
  {
   "cell_type": "code",
   "execution_count": 63,
   "metadata": {},
   "outputs": [],
   "source": [
    "# Creating new columns for each unique genre and assign NaN values\n",
    "for genre in sorted_unique_genre_list:\n",
    "    imdb_df4[genre] = np.nan"
   ]
  },
  {
   "cell_type": "code",
   "execution_count": 64,
   "metadata": {},
   "outputs": [],
   "source": [
    "# Assigning boolean values to genre columns if genre appears in genres column\n",
    "for genre in sorted_unique_genre_list:\n",
    "    imdb_df4[genre] = imdb_df4.genres.apply(lambda x: genre in x)"
   ]
  },
  {
   "cell_type": "markdown",
   "metadata": {},
   "source": [
    "### 3. Standardizing Columns & Removing Unnecessary Columns"
   ]
  },
  {
   "cell_type": "code",
   "execution_count": 65,
   "metadata": {},
   "outputs": [],
   "source": [
    "# Re-naming 'sci-fi' column to 'sci_fi' and lowercasing the genre columns\n",
    "imdb_df4.columns = map(str.lower, imdb_df4.columns)\n",
    "imdb_df4 = imdb_df4.rename(columns={'sci-fi': 'sci_fi'})"
   ]
  },
  {
   "cell_type": "code",
   "execution_count": 66,
   "metadata": {},
   "outputs": [],
   "source": [
    "# Removing redundant columns\n",
    "imdb_df4.drop(['start_year', 'original_title', 'title'], axis=1, inplace=True)"
   ]
  },
  {
   "cell_type": "code",
   "execution_count": 67,
   "metadata": {},
   "outputs": [
    {
     "data": {
      "text/plain": [
       "Index(['primary_title', 'runtime_minutes', 'genres', 'average_rating',\n",
       "       'num_votes', 'studio', 'year', 'release_date', 'production_budget',\n",
       "       'domestic_gross', 'worldwide_gross', 'foreign_gross', 'action',\n",
       "       'adventure', 'animation', 'biography', 'comedy', 'crime', 'documentary',\n",
       "       'drama', 'family', 'fantasy', 'history', 'horror', 'music', 'musical',\n",
       "       'mystery', 'romance', 'sci_fi', 'sport', 'thriller', 'war', 'western'],\n",
       "      dtype='object')"
      ]
     },
     "execution_count": 67,
     "metadata": {},
     "output_type": "execute_result"
    }
   ],
   "source": [
    "# Reviewing list of columns\n",
    "imdb_df4.columns"
   ]
  },
  {
   "cell_type": "code",
   "execution_count": 68,
   "metadata": {},
   "outputs": [
    {
     "data": {
      "text/html": [
       "<div>\n",
       "<style scoped>\n",
       "    .dataframe tbody tr th:only-of-type {\n",
       "        vertical-align: middle;\n",
       "    }\n",
       "\n",
       "    .dataframe tbody tr th {\n",
       "        vertical-align: top;\n",
       "    }\n",
       "\n",
       "    .dataframe thead th {\n",
       "        text-align: right;\n",
       "    }\n",
       "</style>\n",
       "<table border=\"1\" class=\"dataframe\">\n",
       "  <thead>\n",
       "    <tr style=\"text-align: right;\">\n",
       "      <th></th>\n",
       "      <th>primary_title</th>\n",
       "      <th>runtime_minutes</th>\n",
       "      <th>genres</th>\n",
       "      <th>average_rating</th>\n",
       "      <th>num_votes</th>\n",
       "      <th>studio</th>\n",
       "      <th>year</th>\n",
       "      <th>release_date</th>\n",
       "      <th>production_budget</th>\n",
       "      <th>domestic_gross</th>\n",
       "      <th>...</th>\n",
       "      <th>horror</th>\n",
       "      <th>music</th>\n",
       "      <th>musical</th>\n",
       "      <th>mystery</th>\n",
       "      <th>romance</th>\n",
       "      <th>sci_fi</th>\n",
       "      <th>sport</th>\n",
       "      <th>thriller</th>\n",
       "      <th>war</th>\n",
       "      <th>western</th>\n",
       "    </tr>\n",
       "    <tr>\n",
       "      <th>tconst</th>\n",
       "      <th></th>\n",
       "      <th></th>\n",
       "      <th></th>\n",
       "      <th></th>\n",
       "      <th></th>\n",
       "      <th></th>\n",
       "      <th></th>\n",
       "      <th></th>\n",
       "      <th></th>\n",
       "      <th></th>\n",
       "      <th></th>\n",
       "      <th></th>\n",
       "      <th></th>\n",
       "      <th></th>\n",
       "      <th></th>\n",
       "      <th></th>\n",
       "      <th></th>\n",
       "      <th></th>\n",
       "      <th></th>\n",
       "      <th></th>\n",
       "      <th></th>\n",
       "    </tr>\n",
       "  </thead>\n",
       "  <tbody>\n",
       "    <tr>\n",
       "      <td>tt0359950</td>\n",
       "      <td>The Secret Life of Walter Mitty</td>\n",
       "      <td>114.0</td>\n",
       "      <td>[Adventure, Comedy, Drama]</td>\n",
       "      <td>7.3</td>\n",
       "      <td>275300.0</td>\n",
       "      <td>Fox</td>\n",
       "      <td>2013</td>\n",
       "      <td>2013-12-25</td>\n",
       "      <td>91000000.0</td>\n",
       "      <td>58236838.0</td>\n",
       "      <td>...</td>\n",
       "      <td>False</td>\n",
       "      <td>False</td>\n",
       "      <td>False</td>\n",
       "      <td>False</td>\n",
       "      <td>False</td>\n",
       "      <td>False</td>\n",
       "      <td>False</td>\n",
       "      <td>False</td>\n",
       "      <td>False</td>\n",
       "      <td>False</td>\n",
       "    </tr>\n",
       "    <tr>\n",
       "      <td>tt0365907</td>\n",
       "      <td>A Walk Among the Tombstones</td>\n",
       "      <td>114.0</td>\n",
       "      <td>[Action, Crime, Drama]</td>\n",
       "      <td>6.5</td>\n",
       "      <td>105116.0</td>\n",
       "      <td>Uni.</td>\n",
       "      <td>2014</td>\n",
       "      <td>2014-09-19</td>\n",
       "      <td>28000000.0</td>\n",
       "      <td>26017685.0</td>\n",
       "      <td>...</td>\n",
       "      <td>False</td>\n",
       "      <td>False</td>\n",
       "      <td>False</td>\n",
       "      <td>False</td>\n",
       "      <td>False</td>\n",
       "      <td>False</td>\n",
       "      <td>False</td>\n",
       "      <td>False</td>\n",
       "      <td>False</td>\n",
       "      <td>False</td>\n",
       "    </tr>\n",
       "    <tr>\n",
       "      <td>tt0369610</td>\n",
       "      <td>Jurassic World</td>\n",
       "      <td>124.0</td>\n",
       "      <td>[Action, Adventure, Sci-Fi]</td>\n",
       "      <td>7.0</td>\n",
       "      <td>539338.0</td>\n",
       "      <td>Uni.</td>\n",
       "      <td>2015</td>\n",
       "      <td>2015-06-12</td>\n",
       "      <td>215000000.0</td>\n",
       "      <td>652270625.0</td>\n",
       "      <td>...</td>\n",
       "      <td>False</td>\n",
       "      <td>False</td>\n",
       "      <td>False</td>\n",
       "      <td>False</td>\n",
       "      <td>False</td>\n",
       "      <td>True</td>\n",
       "      <td>False</td>\n",
       "      <td>False</td>\n",
       "      <td>False</td>\n",
       "      <td>False</td>\n",
       "    </tr>\n",
       "    <tr>\n",
       "      <td>tt0376136</td>\n",
       "      <td>The Rum Diary</td>\n",
       "      <td>119.0</td>\n",
       "      <td>[Comedy, Drama]</td>\n",
       "      <td>6.2</td>\n",
       "      <td>94787.0</td>\n",
       "      <td>FD</td>\n",
       "      <td>2011</td>\n",
       "      <td>2011-10-28</td>\n",
       "      <td>45000000.0</td>\n",
       "      <td>13109815.0</td>\n",
       "      <td>...</td>\n",
       "      <td>False</td>\n",
       "      <td>False</td>\n",
       "      <td>False</td>\n",
       "      <td>False</td>\n",
       "      <td>False</td>\n",
       "      <td>False</td>\n",
       "      <td>False</td>\n",
       "      <td>False</td>\n",
       "      <td>False</td>\n",
       "      <td>False</td>\n",
       "    </tr>\n",
       "    <tr>\n",
       "      <td>tt0383010</td>\n",
       "      <td>The Three Stooges</td>\n",
       "      <td>92.0</td>\n",
       "      <td>[Comedy, Family]</td>\n",
       "      <td>5.1</td>\n",
       "      <td>28570.0</td>\n",
       "      <td>Fox</td>\n",
       "      <td>2012</td>\n",
       "      <td>2012-04-13</td>\n",
       "      <td>30000000.0</td>\n",
       "      <td>44338224.0</td>\n",
       "      <td>...</td>\n",
       "      <td>False</td>\n",
       "      <td>False</td>\n",
       "      <td>False</td>\n",
       "      <td>False</td>\n",
       "      <td>False</td>\n",
       "      <td>False</td>\n",
       "      <td>False</td>\n",
       "      <td>False</td>\n",
       "      <td>False</td>\n",
       "      <td>False</td>\n",
       "    </tr>\n",
       "  </tbody>\n",
       "</table>\n",
       "<p>5 rows × 33 columns</p>\n",
       "</div>"
      ],
      "text/plain": [
       "                             primary_title  runtime_minutes  \\\n",
       "tconst                                                        \n",
       "tt0359950  The Secret Life of Walter Mitty            114.0   \n",
       "tt0365907      A Walk Among the Tombstones            114.0   \n",
       "tt0369610                   Jurassic World            124.0   \n",
       "tt0376136                    The Rum Diary            119.0   \n",
       "tt0383010                The Three Stooges             92.0   \n",
       "\n",
       "                                genres  average_rating  num_votes studio  \\\n",
       "tconst                                                                     \n",
       "tt0359950   [Adventure, Comedy, Drama]             7.3   275300.0    Fox   \n",
       "tt0365907       [Action, Crime, Drama]             6.5   105116.0   Uni.   \n",
       "tt0369610  [Action, Adventure, Sci-Fi]             7.0   539338.0   Uni.   \n",
       "tt0376136              [Comedy, Drama]             6.2    94787.0     FD   \n",
       "tt0383010             [Comedy, Family]             5.1    28570.0    Fox   \n",
       "\n",
       "           year release_date  production_budget  domestic_gross  ...  horror  \\\n",
       "tconst                                                           ...           \n",
       "tt0359950  2013   2013-12-25         91000000.0      58236838.0  ...   False   \n",
       "tt0365907  2014   2014-09-19         28000000.0      26017685.0  ...   False   \n",
       "tt0369610  2015   2015-06-12        215000000.0     652270625.0  ...   False   \n",
       "tt0376136  2011   2011-10-28         45000000.0      13109815.0  ...   False   \n",
       "tt0383010  2012   2012-04-13         30000000.0      44338224.0  ...   False   \n",
       "\n",
       "           music  musical  mystery  romance  sci_fi  sport  thriller    war  \\\n",
       "tconst                                                                        \n",
       "tt0359950  False    False    False    False   False  False     False  False   \n",
       "tt0365907  False    False    False    False   False  False     False  False   \n",
       "tt0369610  False    False    False    False    True  False     False  False   \n",
       "tt0376136  False    False    False    False   False  False     False  False   \n",
       "tt0383010  False    False    False    False   False  False     False  False   \n",
       "\n",
       "           western  \n",
       "tconst              \n",
       "tt0359950    False  \n",
       "tt0365907    False  \n",
       "tt0369610    False  \n",
       "tt0376136    False  \n",
       "tt0383010    False  \n",
       "\n",
       "[5 rows x 33 columns]"
      ]
     },
     "execution_count": 68,
     "metadata": {},
     "output_type": "execute_result"
    }
   ],
   "source": [
    "# Previewing Final DataFrame\n",
    "imdb_df4.head()"
   ]
  },
  {
   "cell_type": "markdown",
   "metadata": {},
   "source": [
    "### 2. Exporting Final DataFrame to .csv"
   ]
  },
  {
   "cell_type": "code",
   "execution_count": 69,
   "metadata": {},
   "outputs": [],
   "source": [
    "# Exporting DataFrame\n",
    "imdb_df4.to_csv('Data/cleaned_dataframe.csv', index=False)"
   ]
  }
 ],
 "metadata": {
  "kernelspec": {
   "display_name": "Python 3",
   "language": "python",
   "name": "python3"
  },
  "language_info": {
   "codemirror_mode": {
    "name": "ipython",
    "version": 3
   },
   "file_extension": ".py",
   "mimetype": "text/x-python",
   "name": "python",
   "nbconvert_exporter": "python",
   "pygments_lexer": "ipython3",
   "version": "3.7.3"
  },
  "toc": {
   "base_numbering": 1,
   "nav_menu": {},
   "number_sections": false,
   "sideBar": true,
   "skip_h1_title": false,
   "title_cell": "Table of Contents",
   "title_sidebar": "Contents",
   "toc_cell": false,
   "toc_position": {
    "height": "calc(100% - 180px)",
    "left": "10px",
    "top": "150px",
    "width": "384px"
   },
   "toc_section_display": true,
   "toc_window_display": false
  },
  "varInspector": {
   "cols": {
    "lenName": 16,
    "lenType": 16,
    "lenVar": 40
   },
   "kernels_config": {
    "python": {
     "delete_cmd_postfix": "",
     "delete_cmd_prefix": "del ",
     "library": "var_list.py",
     "varRefreshCmd": "print(var_dic_list())"
    },
    "r": {
     "delete_cmd_postfix": ") ",
     "delete_cmd_prefix": "rm(",
     "library": "var_list.r",
     "varRefreshCmd": "cat(var_dic_list()) "
    }
   },
   "types_to_exclude": [
    "module",
    "function",
    "builtin_function_or_method",
    "instance",
    "_Feature"
   ],
   "window_display": false
  }
 },
 "nbformat": 4,
 "nbformat_minor": 2
}
